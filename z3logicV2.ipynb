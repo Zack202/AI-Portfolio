{
  "cells": [
    {
      "cell_type": "markdown",
      "metadata": {
        "id": "-rnkCP9R2o_Z"
      },
      "source": [
        "# Introduction\n",
        "\n",
        "All student names in group: James Nanas, Zachary Lowinger, Stanley Yu\n",
        "\n",
        "I understand that my submission needs to be my own group's work: JN, ZL, SY\n",
        "\n",
        "I understand that ChatGPT / Copilot / other AI tools are not allowed: JN, ZL, SY\n",
        "\n",
        "Points: 10\n",
        "\n",
        "Complete this notebook and submit it (save/print as pdf). Make sure all output is correct in the pdf before submitting (it sometimes gets cut off). The notebook needs to be a complete project report with your implementation, documentation including a short discussion of how your implementation works and your design choices, and experimental results (e.g., tables and charts with simulation results) with a short discussion of what they mean. Use the provided notebook cells and insert additional code and markdown cells as needed."
      ]
    },
    {
      "cell_type": "markdown",
      "metadata": {
        "id": "wdtvm8lB2o_b"
      },
      "source": [
        "## Z3 and Z3py resources\n",
        "\n",
        "For this problem you will be solving constraint satisfaction and logic problems using the Z3 SMT solver via the z3py python library.\n",
        "\n",
        "The demo code using z3py we went over in class is here: [link](https://drive.google.com/drive/folders/16HQXiwdcaman1IpC7H6vSJ71QQQ-aL2z?usp=sharing)\n",
        "\n",
        "Online help for z3py is here: [link](https://ericpony.github.io/z3py-tutorial/guide-examples.htm)"
      ]
    },
    {
      "cell_type": "markdown",
      "metadata": {
        "id": "F6mYrFaM2o_b"
      },
      "source": [
        "## Installation\n",
        "\n",
        "We first install to get the z3solver library using pip and test that works."
      ]
    },
    {
      "cell_type": "code",
      "execution_count": 1,
      "metadata": {
        "colab": {
          "base_uri": "https://localhost:8080/"
        },
        "id": "EoLs1AWw38Tj",
        "outputId": "da23b1d2-6f6a-49e9-8538-f6ceea66ca74"
      },
      "outputs": [
        {
          "name": "stdout",
          "output_type": "stream",
          "text": [
            "Requirement already satisfied: z3-solver in c:\\users\\zacma\\onedrive\\desktop\\cse 352\\myenv\\lib\\site-packages (4.13.0.0)\n"
          ]
        },
        {
          "name": "stderr",
          "output_type": "stream",
          "text": [
            "\n",
            "[notice] A new release of pip is available: 23.2.1 -> 24.0\n",
            "[notice] To update, run: python.exe -m pip install --upgrade pip\n"
          ]
        }
      ],
      "source": [
        "!pip install z3-solver"
      ]
    },
    {
      "cell_type": "code",
      "execution_count": 2,
      "metadata": {
        "colab": {
          "base_uri": "https://localhost:8080/"
        },
        "id": "xnQTztNX2o_c",
        "outputId": "5dfd9ee7-fd0a-467c-ef22-c8d08aed308e"
      },
      "outputs": [
        {
          "name": "stdout",
          "output_type": "stream",
          "text": [
            "[y = 0, x = 7]\n"
          ]
        }
      ],
      "source": [
        "# Run the first example from the z3py guide as a test: https://ericpony.github.io/z3py-tutorial/guide-examples.htm\n",
        "from z3 import *\n",
        "\n",
        "x = Int('x')\n",
        "y = Int('y')\n",
        "solve(x > 2, y < 10, x + 2*y == 7)"
      ]
    },
    {
      "cell_type": "markdown",
      "metadata": {
        "id": "9J3lpQvP52jm"
      },
      "source": [
        "# Sudoku as a constraint satisfaction problem (CSP)\n",
        "\n",
        "Sudoku is a popular number-placement puzzle that originated in France in the end of the 19th century.  Modern Sudoku was likely invented by Howard Garns from Connersville, Indiana and was first published in 1979 under the name *Number Place*. The objective of the puzzle is to place numbers 1-9 on a 9$\\times$9 grid, such that each number occurs only once in every row, every column, and every of the nine 3$\\times$3 sub-grids that compose the main grid.\n",
        "Sudoku puzzles are grids that have been partially occupied with numbers. The task is then to occupy the remaining fields in such a way that the constraints on rows, columns, and sub-grids are satisfied.\n",
        "For more information about Sudoku refer to its Wikipedia page at http://en.wikipedia.org/wiki/Sudoku.\n",
        "\n",
        "This problem has two parts. In the first part, you will write the boolean constraints in mathematical notation for solving a Sudoku puzzle. In the second part, you will write code and invoke the Z3 solver to solve the Sudoku instance and answer various questions about the solution.\n",
        "\n",
        "## Part 1 (Constraints)\n",
        "In text, define and write constraints over **boolean** variables corresponding to each number being in each cell. For example, you may use $X_{i,j}^k$ as teh variable that is true if and only if the number $k$ is in row $i$ and column $j$ (the variable is true if $k$ is in cell $(i, j)$ and false otherwise). Now write the following boolean constaints over these variables:\n",
        "\n",
        "* Write the boolean formula for the constraints that the number 5 can occur at most once in the first row. **(1 point)**\n",
        "* Write the boolean formula for the constraints that the number 6 can occur at most once in the first column. **(1 point)**\n",
        "* Write the boolean formula for the constraints that the number 9 can occur at most once in the top left 3$\\times$3 sub-grid. **(1 point)**"
      ]
    },
    {
      "cell_type": "markdown",
      "metadata": {
        "id": "ju3Q1ewW7aeu"
      },
      "source": [
        "Solution for question 1: $\\neg ((X_{1,1}^5 \\wedge (X_{1,2}^5 \\vee X_{1,3}^5 \\vee ... \\vee X_{1,9}^5)) \\vee (X_{1,2}^5 \\wedge (X_{1,1}^5 \\vee X_{1,3}^5 \\vee ... \\vee X_{1,9}^5)) \\vee ... \\vee (X_{1,9}^5 \\wedge (X_{1,1}^5 \\vee X_{1,2}^5 \\vee ... \\vee X_{1,8}^5)))$\n",
        "\n",
        "Solution for question 2: $\\neg ((X_{1,1}^6 \\wedge (X_{2,1}^6 \\vee X_{3,1}^6 \\vee ... \\vee X_{9,1}^6)) \\vee (X_{2,1}^6 \\wedge (X_{1,1}^6 \\vee X_{3,1}^6 \\vee ... \\vee X_{9,1}^6)) \\vee ... \\vee (X_{9,1}^6 \\wedge (X_{1,1}^6 \\vee X_{2,1}^6 \\vee ... \\vee X_{8,1}^6)))$\n",
        "\n",
        "Solution for question 3: $\\neg ((X_{1,1}^9 \\wedge (X_{1,2}^9 \\vee X_{1,3}^9 \\vee ... \\vee X_{3,3}^9)) \\vee (X_{1,2}^9 \\wedge (X_{1,1}^9 \\vee X_{1,3}^9 \\vee ... \\vee X_{3,3}^9)) \\vee ... \\vee (X_{3,3}^9 \\wedge (X_{1,1}^9 \\vee X_{1,2}^9 \\vee ... \\vee X_{3,2}^9)))$"
      ]
    },
    {
      "cell_type": "markdown",
      "metadata": {
        "id": "y7kArKLH7eOR"
      },
      "source": [
        "## Part 2 (Coding)\n",
        "\n",
        "Encode the above constraints and all the other ones as a CSP using z3py and solve the Sudoku instance given in the figure below. **Use only boolean variables** and do not use the **Distinct** function.\n",
        "\n",
        "* Provide the code to solve that solves the given problem instance using z3py and only boolean variables. The code should output a reasonable visualization of the solution, for example printed in text. **(1 points)**\n",
        "\n",
        "<img src=\"https://raw.githubusercontent.com/stanleybak/CS7320-AI/master/Knowledge-based/sudoku1.jpg\" width=\"400\"/>\n",
        "\n"
      ]
    },
    {
      "cell_type": "code",
      "execution_count": 3,
      "metadata": {
        "id": "UghnVSTS-kJi"
      },
      "outputs": [
        {
          "name": "stdout",
          "output_type": "stream",
          "text": [
            "# 1 # 4 # 2 # 5 # \n",
            "5 # # # # # # # 6 \n",
            "# # # 3 # 1 # # # \n",
            "7 # 5 # # # 4 # 8 \n",
            "# # # # # # # # # \n",
            "2 # 8 # # # 5 # 9 \n",
            "# # # 9 # 6 # # # \n",
            "6 # # # # # # # 2 \n",
            "# 7 # 1 # 3 # 4 # \n",
            "[[[cell^1_1,1, cell^2_1,1, cell^3_1,1, cell^4_1,1, cell^5_1,1, cell^6_1,1, cell^7_1,1, cell^8_1,1, cell^9_1,1], [cell^1_1,2, cell^2_1,2, cell^3_1,2, cell^4_1,2, cell^5_1,2, cell^6_1,2, cell^7_1,2, cell^8_1,2, cell^9_1,2], [cell^1_1,3, cell^2_1,3, cell^3_1,3, cell^4_1,3, cell^5_1,3, cell^6_1,3, cell^7_1,3, cell^8_1,3, cell^9_1,3], [cell^1_1,4, cell^2_1,4, cell^3_1,4, cell^4_1,4, cell^5_1,4, cell^6_1,4, cell^7_1,4, cell^8_1,4, cell^9_1,4], [cell^1_1,5, cell^2_1,5, cell^3_1,5, cell^4_1,5, cell^5_1,5, cell^6_1,5, cell^7_1,5, cell^8_1,5, cell^9_1,5], [cell^1_1,6, cell^2_1,6, cell^3_1,6, cell^4_1,6, cell^5_1,6, cell^6_1,6, cell^7_1,6, cell^8_1,6, cell^9_1,6], [cell^1_1,7, cell^2_1,7, cell^3_1,7, cell^4_1,7, cell^5_1,7, cell^6_1,7, cell^7_1,7, cell^8_1,7, cell^9_1,7], [cell^1_1,8, cell^2_1,8, cell^3_1,8, cell^4_1,8, cell^5_1,8, cell^6_1,8, cell^7_1,8, cell^8_1,8, cell^9_1,8], [cell^1_1,9, cell^2_1,9, cell^3_1,9, cell^4_1,9, cell^5_1,9, cell^6_1,9, cell^7_1,9, cell^8_1,9, cell^9_1,9]], [[cell^1_2,1, cell^2_2,1, cell^3_2,1, cell^4_2,1, cell^5_2,1, cell^6_2,1, cell^7_2,1, cell^8_2,1, cell^9_2,1], [cell^1_2,2, cell^2_2,2, cell^3_2,2, cell^4_2,2, cell^5_2,2, cell^6_2,2, cell^7_2,2, cell^8_2,2, cell^9_2,2], [cell^1_2,3, cell^2_2,3, cell^3_2,3, cell^4_2,3, cell^5_2,3, cell^6_2,3, cell^7_2,3, cell^8_2,3, cell^9_2,3], [cell^1_2,4, cell^2_2,4, cell^3_2,4, cell^4_2,4, cell^5_2,4, cell^6_2,4, cell^7_2,4, cell^8_2,4, cell^9_2,4], [cell^1_2,5, cell^2_2,5, cell^3_2,5, cell^4_2,5, cell^5_2,5, cell^6_2,5, cell^7_2,5, cell^8_2,5, cell^9_2,5], [cell^1_2,6, cell^2_2,6, cell^3_2,6, cell^4_2,6, cell^5_2,6, cell^6_2,6, cell^7_2,6, cell^8_2,6, cell^9_2,6], [cell^1_2,7, cell^2_2,7, cell^3_2,7, cell^4_2,7, cell^5_2,7, cell^6_2,7, cell^7_2,7, cell^8_2,7, cell^9_2,7], [cell^1_2,8, cell^2_2,8, cell^3_2,8, cell^4_2,8, cell^5_2,8, cell^6_2,8, cell^7_2,8, cell^8_2,8, cell^9_2,8], [cell^1_2,9, cell^2_2,9, cell^3_2,9, cell^4_2,9, cell^5_2,9, cell^6_2,9, cell^7_2,9, cell^8_2,9, cell^9_2,9]], [[cell^1_3,1, cell^2_3,1, cell^3_3,1, cell^4_3,1, cell^5_3,1, cell^6_3,1, cell^7_3,1, cell^8_3,1, cell^9_3,1], [cell^1_3,2, cell^2_3,2, cell^3_3,2, cell^4_3,2, cell^5_3,2, cell^6_3,2, cell^7_3,2, cell^8_3,2, cell^9_3,2], [cell^1_3,3, cell^2_3,3, cell^3_3,3, cell^4_3,3, cell^5_3,3, cell^6_3,3, cell^7_3,3, cell^8_3,3, cell^9_3,3], [cell^1_3,4, cell^2_3,4, cell^3_3,4, cell^4_3,4, cell^5_3,4, cell^6_3,4, cell^7_3,4, cell^8_3,4, cell^9_3,4], [cell^1_3,5, cell^2_3,5, cell^3_3,5, cell^4_3,5, cell^5_3,5, cell^6_3,5, cell^7_3,5, cell^8_3,5, cell^9_3,5], [cell^1_3,6, cell^2_3,6, cell^3_3,6, cell^4_3,6, cell^5_3,6, cell^6_3,6, cell^7_3,6, cell^8_3,6, cell^9_3,6], [cell^1_3,7, cell^2_3,7, cell^3_3,7, cell^4_3,7, cell^5_3,7, cell^6_3,7, cell^7_3,7, cell^8_3,7, cell^9_3,7], [cell^1_3,8, cell^2_3,8, cell^3_3,8, cell^4_3,8, cell^5_3,8, cell^6_3,8, cell^7_3,8, cell^8_3,8, cell^9_3,8], [cell^1_3,9, cell^2_3,9, cell^3_3,9, cell^4_3,9, cell^5_3,9, cell^6_3,9, cell^7_3,9, cell^8_3,9, cell^9_3,9]], [[cell^1_4,1, cell^2_4,1, cell^3_4,1, cell^4_4,1, cell^5_4,1, cell^6_4,1, cell^7_4,1, cell^8_4,1, cell^9_4,1], [cell^1_4,2, cell^2_4,2, cell^3_4,2, cell^4_4,2, cell^5_4,2, cell^6_4,2, cell^7_4,2, cell^8_4,2, cell^9_4,2], [cell^1_4,3, cell^2_4,3, cell^3_4,3, cell^4_4,3, cell^5_4,3, cell^6_4,3, cell^7_4,3, cell^8_4,3, cell^9_4,3], [cell^1_4,4, cell^2_4,4, cell^3_4,4, cell^4_4,4, cell^5_4,4, cell^6_4,4, cell^7_4,4, cell^8_4,4, cell^9_4,4], [cell^1_4,5, cell^2_4,5, cell^3_4,5, cell^4_4,5, cell^5_4,5, cell^6_4,5, cell^7_4,5, cell^8_4,5, cell^9_4,5], [cell^1_4,6, cell^2_4,6, cell^3_4,6, cell^4_4,6, cell^5_4,6, cell^6_4,6, cell^7_4,6, cell^8_4,6, cell^9_4,6], [cell^1_4,7, cell^2_4,7, cell^3_4,7, cell^4_4,7, cell^5_4,7, cell^6_4,7, cell^7_4,7, cell^8_4,7, cell^9_4,7], [cell^1_4,8, cell^2_4,8, cell^3_4,8, cell^4_4,8, cell^5_4,8, cell^6_4,8, cell^7_4,8, cell^8_4,8, cell^9_4,8], [cell^1_4,9, cell^2_4,9, cell^3_4,9, cell^4_4,9, cell^5_4,9, cell^6_4,9, cell^7_4,9, cell^8_4,9, cell^9_4,9]], [[cell^1_5,1, cell^2_5,1, cell^3_5,1, cell^4_5,1, cell^5_5,1, cell^6_5,1, cell^7_5,1, cell^8_5,1, cell^9_5,1], [cell^1_5,2, cell^2_5,2, cell^3_5,2, cell^4_5,2, cell^5_5,2, cell^6_5,2, cell^7_5,2, cell^8_5,2, cell^9_5,2], [cell^1_5,3, cell^2_5,3, cell^3_5,3, cell^4_5,3, cell^5_5,3, cell^6_5,3, cell^7_5,3, cell^8_5,3, cell^9_5,3], [cell^1_5,4, cell^2_5,4, cell^3_5,4, cell^4_5,4, cell^5_5,4, cell^6_5,4, cell^7_5,4, cell^8_5,4, cell^9_5,4], [cell^1_5,5, cell^2_5,5, cell^3_5,5, cell^4_5,5, cell^5_5,5, cell^6_5,5, cell^7_5,5, cell^8_5,5, cell^9_5,5], [cell^1_5,6, cell^2_5,6, cell^3_5,6, cell^4_5,6, cell^5_5,6, cell^6_5,6, cell^7_5,6, cell^8_5,6, cell^9_5,6], [cell^1_5,7, cell^2_5,7, cell^3_5,7, cell^4_5,7, cell^5_5,7, cell^6_5,7, cell^7_5,7, cell^8_5,7, cell^9_5,7], [cell^1_5,8, cell^2_5,8, cell^3_5,8, cell^4_5,8, cell^5_5,8, cell^6_5,8, cell^7_5,8, cell^8_5,8, cell^9_5,8], [cell^1_5,9, cell^2_5,9, cell^3_5,9, cell^4_5,9, cell^5_5,9, cell^6_5,9, cell^7_5,9, cell^8_5,9, cell^9_5,9]], [[cell^1_6,1, cell^2_6,1, cell^3_6,1, cell^4_6,1, cell^5_6,1, cell^6_6,1, cell^7_6,1, cell^8_6,1, cell^9_6,1], [cell^1_6,2, cell^2_6,2, cell^3_6,2, cell^4_6,2, cell^5_6,2, cell^6_6,2, cell^7_6,2, cell^8_6,2, cell^9_6,2], [cell^1_6,3, cell^2_6,3, cell^3_6,3, cell^4_6,3, cell^5_6,3, cell^6_6,3, cell^7_6,3, cell^8_6,3, cell^9_6,3], [cell^1_6,4, cell^2_6,4, cell^3_6,4, cell^4_6,4, cell^5_6,4, cell^6_6,4, cell^7_6,4, cell^8_6,4, cell^9_6,4], [cell^1_6,5, cell^2_6,5, cell^3_6,5, cell^4_6,5, cell^5_6,5, cell^6_6,5, cell^7_6,5, cell^8_6,5, cell^9_6,5], [cell^1_6,6, cell^2_6,6, cell^3_6,6, cell^4_6,6, cell^5_6,6, cell^6_6,6, cell^7_6,6, cell^8_6,6, cell^9_6,6], [cell^1_6,7, cell^2_6,7, cell^3_6,7, cell^4_6,7, cell^5_6,7, cell^6_6,7, cell^7_6,7, cell^8_6,7, cell^9_6,7], [cell^1_6,8, cell^2_6,8, cell^3_6,8, cell^4_6,8, cell^5_6,8, cell^6_6,8, cell^7_6,8, cell^8_6,8, cell^9_6,8], [cell^1_6,9, cell^2_6,9, cell^3_6,9, cell^4_6,9, cell^5_6,9, cell^6_6,9, cell^7_6,9, cell^8_6,9, cell^9_6,9]], [[cell^1_7,1, cell^2_7,1, cell^3_7,1, cell^4_7,1, cell^5_7,1, cell^6_7,1, cell^7_7,1, cell^8_7,1, cell^9_7,1], [cell^1_7,2, cell^2_7,2, cell^3_7,2, cell^4_7,2, cell^5_7,2, cell^6_7,2, cell^7_7,2, cell^8_7,2, cell^9_7,2], [cell^1_7,3, cell^2_7,3, cell^3_7,3, cell^4_7,3, cell^5_7,3, cell^6_7,3, cell^7_7,3, cell^8_7,3, cell^9_7,3], [cell^1_7,4, cell^2_7,4, cell^3_7,4, cell^4_7,4, cell^5_7,4, cell^6_7,4, cell^7_7,4, cell^8_7,4, cell^9_7,4], [cell^1_7,5, cell^2_7,5, cell^3_7,5, cell^4_7,5, cell^5_7,5, cell^6_7,5, cell^7_7,5, cell^8_7,5, cell^9_7,5], [cell^1_7,6, cell^2_7,6, cell^3_7,6, cell^4_7,6, cell^5_7,6, cell^6_7,6, cell^7_7,6, cell^8_7,6, cell^9_7,6], [cell^1_7,7, cell^2_7,7, cell^3_7,7, cell^4_7,7, cell^5_7,7, cell^6_7,7, cell^7_7,7, cell^8_7,7, cell^9_7,7], [cell^1_7,8, cell^2_7,8, cell^3_7,8, cell^4_7,8, cell^5_7,8, cell^6_7,8, cell^7_7,8, cell^8_7,8, cell^9_7,8], [cell^1_7,9, cell^2_7,9, cell^3_7,9, cell^4_7,9, cell^5_7,9, cell^6_7,9, cell^7_7,9, cell^8_7,9, cell^9_7,9]], [[cell^1_8,1, cell^2_8,1, cell^3_8,1, cell^4_8,1, cell^5_8,1, cell^6_8,1, cell^7_8,1, cell^8_8,1, cell^9_8,1], [cell^1_8,2, cell^2_8,2, cell^3_8,2, cell^4_8,2, cell^5_8,2, cell^6_8,2, cell^7_8,2, cell^8_8,2, cell^9_8,2], [cell^1_8,3, cell^2_8,3, cell^3_8,3, cell^4_8,3, cell^5_8,3, cell^6_8,3, cell^7_8,3, cell^8_8,3, cell^9_8,3], [cell^1_8,4, cell^2_8,4, cell^3_8,4, cell^4_8,4, cell^5_8,4, cell^6_8,4, cell^7_8,4, cell^8_8,4, cell^9_8,4], [cell^1_8,5, cell^2_8,5, cell^3_8,5, cell^4_8,5, cell^5_8,5, cell^6_8,5, cell^7_8,5, cell^8_8,5, cell^9_8,5], [cell^1_8,6, cell^2_8,6, cell^3_8,6, cell^4_8,6, cell^5_8,6, cell^6_8,6, cell^7_8,6, cell^8_8,6, cell^9_8,6], [cell^1_8,7, cell^2_8,7, cell^3_8,7, cell^4_8,7, cell^5_8,7, cell^6_8,7, cell^7_8,7, cell^8_8,7, cell^9_8,7], [cell^1_8,8, cell^2_8,8, cell^3_8,8, cell^4_8,8, cell^5_8,8, cell^6_8,8, cell^7_8,8, cell^8_8,8, cell^9_8,8], [cell^1_8,9, cell^2_8,9, cell^3_8,9, cell^4_8,9, cell^5_8,9, cell^6_8,9, cell^7_8,9, cell^8_8,9, cell^9_8,9]], [[cell^1_9,1, cell^2_9,1, cell^3_9,1, cell^4_9,1, cell^5_9,1, cell^6_9,1, cell^7_9,1, cell^8_9,1, cell^9_9,1], [cell^1_9,2, cell^2_9,2, cell^3_9,2, cell^4_9,2, cell^5_9,2, cell^6_9,2, cell^7_9,2, cell^8_9,2, cell^9_9,2], [cell^1_9,3, cell^2_9,3, cell^3_9,3, cell^4_9,3, cell^5_9,3, cell^6_9,3, cell^7_9,3, cell^8_9,3, cell^9_9,3], [cell^1_9,4, cell^2_9,4, cell^3_9,4, cell^4_9,4, cell^5_9,4, cell^6_9,4, cell^7_9,4, cell^8_9,4, cell^9_9,4], [cell^1_9,5, cell^2_9,5, cell^3_9,5, cell^4_9,5, cell^5_9,5, cell^6_9,5, cell^7_9,5, cell^8_9,5, cell^9_9,5], [cell^1_9,6, cell^2_9,6, cell^3_9,6, cell^4_9,6, cell^5_9,6, cell^6_9,6, cell^7_9,6, cell^8_9,6, cell^9_9,6], [cell^1_9,7, cell^2_9,7, cell^3_9,7, cell^4_9,7, cell^5_9,7, cell^6_9,7, cell^7_9,7, cell^8_9,7, cell^9_9,7], [cell^1_9,8, cell^2_9,8, cell^3_9,8, cell^4_9,8, cell^5_9,8, cell^6_9,8, cell^7_9,8, cell^8_9,8, cell^9_9,8], [cell^1_9,9, cell^2_9,9, cell^3_9,9, cell^4_9,9, cell^5_9,9, cell^6_9,9, cell^7_9,9, cell^8_9,9, cell^9_9,9]]]\n",
            "3 1 9 4 6 2 8 5 7 \n",
            "5 2 4 7 9 8 1 3 6 \n",
            "8 6 7 3 5 1 9 2 4 \n",
            "7 3 5 2 1 9 4 6 8 \n",
            "1 9 6 8 4 5 2 7 3 \n",
            "2 4 8 6 3 7 5 1 9 \n",
            "4 5 3 9 2 6 7 8 1 \n",
            "6 8 1 5 7 4 3 9 2 \n",
            "9 7 2 1 8 3 6 4 5 \n"
          ]
        }
      ],
      "source": [
        "# z3py code to solve above Sudoku goes here. Do not use Int(*), only Bool(*)\n",
        "\n",
        "board = [[' ', 1, ' ', 4, ' ', 2, ' ', 5, ' '],\n",
        "         [5, ' ', ' ', ' ', ' ', ' ', ' ', ' ', 6],\n",
        "         [' ', ' ', ' ', 3, ' ', 1, ' ', ' ', ' '],\n",
        "         [7, ' ', 5, ' ', ' ', ' ', 4, ' ', 8],\n",
        "         [' ', ' ', ' ', ' ', ' ', ' ', ' ', ' ', ' '],\n",
        "         [2, ' ', 8, ' ', ' ', ' ', 5, ' ', 9],\n",
        "         [' ', ' ', ' ', 9, ' ', 6, ' ', ' ', ' '],\n",
        "         [6, ' ', ' ', ' ', ' ', ' ', ' ', ' ', 2],\n",
        "         [' ', 7, ' ', 1, ' ', 3, ' ', 4, ' ']\n",
        "        ]\n",
        "\n",
        "def print_board(board):\n",
        "    for i in range(len(board)):\n",
        "        for j in range(len(board[i])):\n",
        "            if board[i][j] == ' ':\n",
        "                print('#', end=' ')\n",
        "            else:\n",
        "                print(board[i][j], end=' ')\n",
        "        print()\n",
        "\n",
        "#Need to use different constraints for the sudoku solver since mine arent working but should work\n",
        "#Trying to use z3py PbEq for variables constraint checking\n",
        "#Went back to not and or constraints since PbEq is not working with miracle sudoku\n",
        "\n",
        "#Need additional constraints that each cell should have one value\n",
        "\n",
        "def solve_sudoku(board):\n",
        "    #Create all variables for the board, should be 729 variables\n",
        "    cells = []\n",
        "    for i in range(len(board)):\n",
        "        row = []\n",
        "        for j in range(len(board[i])):\n",
        "            cell = []\n",
        "            for k in range(9):\n",
        "                cell.append(Bool(f\"cell^{k+1}_{i+1},{j+1}\"))\n",
        "            row.append(cell)\n",
        "        cells.append(row)\n",
        "\n",
        "    print(cells)\n",
        "    s = Solver()\n",
        "\n",
        "    #Intialize current values on the board\n",
        "    for i in range(len(board)):\n",
        "        for j in range(len(board[i])):\n",
        "            if board[i][j] != ' ':\n",
        "                s.add(cells[i][j][int(board[i][j])-1])\n",
        "\n",
        "    #Each cell can have one value\n",
        "    for i in range(len(board)):\n",
        "        for j in range(len(board[i])):\n",
        "            s.add(Or([cells[i][j][k] for k in range(9)])) #One value per cell is true\n",
        "\n",
        "            for k in range(8):\n",
        "                for k2 in range(k+1, 9):\n",
        "                    s.add(Not(And(cells[i][j][k], cells[i][j][k2]))) #No two values in same cell can be true\n",
        "\n",
        "    #Each row needs to have each value once\n",
        "    for i in range(len(board)):\n",
        "        for k in range(9):\n",
        "            s.add(Or([cells[i][j][k] for j in range(len(board[i]))])) #Each row needs to have each value once\n",
        "\n",
        "            for j in range(len(board[i]) - 1):\n",
        "                for j2 in range(j + 1, len(board[i])):\n",
        "                    s.add(Not(And(cells[i][j][k], cells[i][j2][k]))) #Now two cells in the row can have the same value\n",
        "\n",
        "    #Each column needs to have each value once\n",
        "    for j in range(len(board[0])):\n",
        "        for k in range(9):\n",
        "            s.add(Or([cells[i][j][k] for i in range(len(board))])) #Each column needs to have each value once\n",
        "\n",
        "            for i in range(len(board) - 1):\n",
        "                for i2 in range(i + 1, len(board)):\n",
        "                    s.add(Not(And(cells[i][j][k], cells[i2][j][k]))) #No two cells in the column can have the same value\n",
        "\n",
        "    #Each 3x3 needs to have each value once\n",
        "    for cBoxR in range(3):\n",
        "        for cBoxD in range(3):\n",
        "            for k in range(9):\n",
        "                s.add(Or([cells[(cBoxR*3)+i][(cBoxD*3)+j][k] for i in range(3) for j in range(3)])) #Each box needs to have each value once\n",
        "                \n",
        "                #Need to check each other cell in the box\n",
        "                for i in range(3): \n",
        "                    for j in range(3):\n",
        "                        for i2 in range(i, 3):\n",
        "                            for j2 in range(j if i == i2 else 0, 3):\n",
        "                                if j != j2 or i != i2:\n",
        "                                    s.add(Not(And(cells[(cBoxR*3)+i][(cBoxD*3)+j][k], cells[(cBoxR*3)+i2][(cBoxD*3)+j2][k]))) #No two cells in the box can have the same value\n",
        "\n",
        "    if s.check() == sat:\n",
        "        model = s.model()\n",
        "\n",
        "        #Conbert model to solution with same format as board\n",
        "        solution = []\n",
        "        for i in range(len(board)):\n",
        "            row = []\n",
        "            for j in range(len(board[i])):\n",
        "                row.append(' ')\n",
        "            solution.append(row)\n",
        "            \n",
        "        for i in range(len(board)):\n",
        "            for j in range(len(board[i])):\n",
        "                for k in range(9):\n",
        "                    if model[cells[i][j][k]]:\n",
        "                        solution[i][j] = k+1 #convert from 0 to 8 to 1 to 9\n",
        "                        break\n",
        "        return solution\n",
        "    else:\n",
        "        return None\n",
        "\n",
        "print_board(board)\n",
        "solution = solve_sudoku(board)\n",
        "if solution is not None:\n",
        "    print_board(solution)\n",
        "       \n",
        "else:\n",
        "    print(\"No solution found\")\n"
      ]
    },
    {
      "cell_type": "markdown",
      "metadata": {
        "id": "FIkg9eI38VMG"
      },
      "source": [
        "### Uniqueness\n",
        "Is your solution unique? Prove it with a Z3py solver or provide a second solution. **(1 point)**"
      ]
    },
    {
      "cell_type": "code",
      "execution_count": 4,
      "metadata": {
        "id": "-ZacX6gz-4os"
      },
      "outputs": [
        {
          "name": "stdout",
          "output_type": "stream",
          "text": [
            "[[[cell^1_1,1, cell^2_1,1, cell^3_1,1, cell^4_1,1, cell^5_1,1, cell^6_1,1, cell^7_1,1, cell^8_1,1, cell^9_1,1], [cell^1_1,2, cell^2_1,2, cell^3_1,2, cell^4_1,2, cell^5_1,2, cell^6_1,2, cell^7_1,2, cell^8_1,2, cell^9_1,2], [cell^1_1,3, cell^2_1,3, cell^3_1,3, cell^4_1,3, cell^5_1,3, cell^6_1,3, cell^7_1,3, cell^8_1,3, cell^9_1,3], [cell^1_1,4, cell^2_1,4, cell^3_1,4, cell^4_1,4, cell^5_1,4, cell^6_1,4, cell^7_1,4, cell^8_1,4, cell^9_1,4], [cell^1_1,5, cell^2_1,5, cell^3_1,5, cell^4_1,5, cell^5_1,5, cell^6_1,5, cell^7_1,5, cell^8_1,5, cell^9_1,5], [cell^1_1,6, cell^2_1,6, cell^3_1,6, cell^4_1,6, cell^5_1,6, cell^6_1,6, cell^7_1,6, cell^8_1,6, cell^9_1,6], [cell^1_1,7, cell^2_1,7, cell^3_1,7, cell^4_1,7, cell^5_1,7, cell^6_1,7, cell^7_1,7, cell^8_1,7, cell^9_1,7], [cell^1_1,8, cell^2_1,8, cell^3_1,8, cell^4_1,8, cell^5_1,8, cell^6_1,8, cell^7_1,8, cell^8_1,8, cell^9_1,8], [cell^1_1,9, cell^2_1,9, cell^3_1,9, cell^4_1,9, cell^5_1,9, cell^6_1,9, cell^7_1,9, cell^8_1,9, cell^9_1,9]], [[cell^1_2,1, cell^2_2,1, cell^3_2,1, cell^4_2,1, cell^5_2,1, cell^6_2,1, cell^7_2,1, cell^8_2,1, cell^9_2,1], [cell^1_2,2, cell^2_2,2, cell^3_2,2, cell^4_2,2, cell^5_2,2, cell^6_2,2, cell^7_2,2, cell^8_2,2, cell^9_2,2], [cell^1_2,3, cell^2_2,3, cell^3_2,3, cell^4_2,3, cell^5_2,3, cell^6_2,3, cell^7_2,3, cell^8_2,3, cell^9_2,3], [cell^1_2,4, cell^2_2,4, cell^3_2,4, cell^4_2,4, cell^5_2,4, cell^6_2,4, cell^7_2,4, cell^8_2,4, cell^9_2,4], [cell^1_2,5, cell^2_2,5, cell^3_2,5, cell^4_2,5, cell^5_2,5, cell^6_2,5, cell^7_2,5, cell^8_2,5, cell^9_2,5], [cell^1_2,6, cell^2_2,6, cell^3_2,6, cell^4_2,6, cell^5_2,6, cell^6_2,6, cell^7_2,6, cell^8_2,6, cell^9_2,6], [cell^1_2,7, cell^2_2,7, cell^3_2,7, cell^4_2,7, cell^5_2,7, cell^6_2,7, cell^7_2,7, cell^8_2,7, cell^9_2,7], [cell^1_2,8, cell^2_2,8, cell^3_2,8, cell^4_2,8, cell^5_2,8, cell^6_2,8, cell^7_2,8, cell^8_2,8, cell^9_2,8], [cell^1_2,9, cell^2_2,9, cell^3_2,9, cell^4_2,9, cell^5_2,9, cell^6_2,9, cell^7_2,9, cell^8_2,9, cell^9_2,9]], [[cell^1_3,1, cell^2_3,1, cell^3_3,1, cell^4_3,1, cell^5_3,1, cell^6_3,1, cell^7_3,1, cell^8_3,1, cell^9_3,1], [cell^1_3,2, cell^2_3,2, cell^3_3,2, cell^4_3,2, cell^5_3,2, cell^6_3,2, cell^7_3,2, cell^8_3,2, cell^9_3,2], [cell^1_3,3, cell^2_3,3, cell^3_3,3, cell^4_3,3, cell^5_3,3, cell^6_3,3, cell^7_3,3, cell^8_3,3, cell^9_3,3], [cell^1_3,4, cell^2_3,4, cell^3_3,4, cell^4_3,4, cell^5_3,4, cell^6_3,4, cell^7_3,4, cell^8_3,4, cell^9_3,4], [cell^1_3,5, cell^2_3,5, cell^3_3,5, cell^4_3,5, cell^5_3,5, cell^6_3,5, cell^7_3,5, cell^8_3,5, cell^9_3,5], [cell^1_3,6, cell^2_3,6, cell^3_3,6, cell^4_3,6, cell^5_3,6, cell^6_3,6, cell^7_3,6, cell^8_3,6, cell^9_3,6], [cell^1_3,7, cell^2_3,7, cell^3_3,7, cell^4_3,7, cell^5_3,7, cell^6_3,7, cell^7_3,7, cell^8_3,7, cell^9_3,7], [cell^1_3,8, cell^2_3,8, cell^3_3,8, cell^4_3,8, cell^5_3,8, cell^6_3,8, cell^7_3,8, cell^8_3,8, cell^9_3,8], [cell^1_3,9, cell^2_3,9, cell^3_3,9, cell^4_3,9, cell^5_3,9, cell^6_3,9, cell^7_3,9, cell^8_3,9, cell^9_3,9]], [[cell^1_4,1, cell^2_4,1, cell^3_4,1, cell^4_4,1, cell^5_4,1, cell^6_4,1, cell^7_4,1, cell^8_4,1, cell^9_4,1], [cell^1_4,2, cell^2_4,2, cell^3_4,2, cell^4_4,2, cell^5_4,2, cell^6_4,2, cell^7_4,2, cell^8_4,2, cell^9_4,2], [cell^1_4,3, cell^2_4,3, cell^3_4,3, cell^4_4,3, cell^5_4,3, cell^6_4,3, cell^7_4,3, cell^8_4,3, cell^9_4,3], [cell^1_4,4, cell^2_4,4, cell^3_4,4, cell^4_4,4, cell^5_4,4, cell^6_4,4, cell^7_4,4, cell^8_4,4, cell^9_4,4], [cell^1_4,5, cell^2_4,5, cell^3_4,5, cell^4_4,5, cell^5_4,5, cell^6_4,5, cell^7_4,5, cell^8_4,5, cell^9_4,5], [cell^1_4,6, cell^2_4,6, cell^3_4,6, cell^4_4,6, cell^5_4,6, cell^6_4,6, cell^7_4,6, cell^8_4,6, cell^9_4,6], [cell^1_4,7, cell^2_4,7, cell^3_4,7, cell^4_4,7, cell^5_4,7, cell^6_4,7, cell^7_4,7, cell^8_4,7, cell^9_4,7], [cell^1_4,8, cell^2_4,8, cell^3_4,8, cell^4_4,8, cell^5_4,8, cell^6_4,8, cell^7_4,8, cell^8_4,8, cell^9_4,8], [cell^1_4,9, cell^2_4,9, cell^3_4,9, cell^4_4,9, cell^5_4,9, cell^6_4,9, cell^7_4,9, cell^8_4,9, cell^9_4,9]], [[cell^1_5,1, cell^2_5,1, cell^3_5,1, cell^4_5,1, cell^5_5,1, cell^6_5,1, cell^7_5,1, cell^8_5,1, cell^9_5,1], [cell^1_5,2, cell^2_5,2, cell^3_5,2, cell^4_5,2, cell^5_5,2, cell^6_5,2, cell^7_5,2, cell^8_5,2, cell^9_5,2], [cell^1_5,3, cell^2_5,3, cell^3_5,3, cell^4_5,3, cell^5_5,3, cell^6_5,3, cell^7_5,3, cell^8_5,3, cell^9_5,3], [cell^1_5,4, cell^2_5,4, cell^3_5,4, cell^4_5,4, cell^5_5,4, cell^6_5,4, cell^7_5,4, cell^8_5,4, cell^9_5,4], [cell^1_5,5, cell^2_5,5, cell^3_5,5, cell^4_5,5, cell^5_5,5, cell^6_5,5, cell^7_5,5, cell^8_5,5, cell^9_5,5], [cell^1_5,6, cell^2_5,6, cell^3_5,6, cell^4_5,6, cell^5_5,6, cell^6_5,6, cell^7_5,6, cell^8_5,6, cell^9_5,6], [cell^1_5,7, cell^2_5,7, cell^3_5,7, cell^4_5,7, cell^5_5,7, cell^6_5,7, cell^7_5,7, cell^8_5,7, cell^9_5,7], [cell^1_5,8, cell^2_5,8, cell^3_5,8, cell^4_5,8, cell^5_5,8, cell^6_5,8, cell^7_5,8, cell^8_5,8, cell^9_5,8], [cell^1_5,9, cell^2_5,9, cell^3_5,9, cell^4_5,9, cell^5_5,9, cell^6_5,9, cell^7_5,9, cell^8_5,9, cell^9_5,9]], [[cell^1_6,1, cell^2_6,1, cell^3_6,1, cell^4_6,1, cell^5_6,1, cell^6_6,1, cell^7_6,1, cell^8_6,1, cell^9_6,1], [cell^1_6,2, cell^2_6,2, cell^3_6,2, cell^4_6,2, cell^5_6,2, cell^6_6,2, cell^7_6,2, cell^8_6,2, cell^9_6,2], [cell^1_6,3, cell^2_6,3, cell^3_6,3, cell^4_6,3, cell^5_6,3, cell^6_6,3, cell^7_6,3, cell^8_6,3, cell^9_6,3], [cell^1_6,4, cell^2_6,4, cell^3_6,4, cell^4_6,4, cell^5_6,4, cell^6_6,4, cell^7_6,4, cell^8_6,4, cell^9_6,4], [cell^1_6,5, cell^2_6,5, cell^3_6,5, cell^4_6,5, cell^5_6,5, cell^6_6,5, cell^7_6,5, cell^8_6,5, cell^9_6,5], [cell^1_6,6, cell^2_6,6, cell^3_6,6, cell^4_6,6, cell^5_6,6, cell^6_6,6, cell^7_6,6, cell^8_6,6, cell^9_6,6], [cell^1_6,7, cell^2_6,7, cell^3_6,7, cell^4_6,7, cell^5_6,7, cell^6_6,7, cell^7_6,7, cell^8_6,7, cell^9_6,7], [cell^1_6,8, cell^2_6,8, cell^3_6,8, cell^4_6,8, cell^5_6,8, cell^6_6,8, cell^7_6,8, cell^8_6,8, cell^9_6,8], [cell^1_6,9, cell^2_6,9, cell^3_6,9, cell^4_6,9, cell^5_6,9, cell^6_6,9, cell^7_6,9, cell^8_6,9, cell^9_6,9]], [[cell^1_7,1, cell^2_7,1, cell^3_7,1, cell^4_7,1, cell^5_7,1, cell^6_7,1, cell^7_7,1, cell^8_7,1, cell^9_7,1], [cell^1_7,2, cell^2_7,2, cell^3_7,2, cell^4_7,2, cell^5_7,2, cell^6_7,2, cell^7_7,2, cell^8_7,2, cell^9_7,2], [cell^1_7,3, cell^2_7,3, cell^3_7,3, cell^4_7,3, cell^5_7,3, cell^6_7,3, cell^7_7,3, cell^8_7,3, cell^9_7,3], [cell^1_7,4, cell^2_7,4, cell^3_7,4, cell^4_7,4, cell^5_7,4, cell^6_7,4, cell^7_7,4, cell^8_7,4, cell^9_7,4], [cell^1_7,5, cell^2_7,5, cell^3_7,5, cell^4_7,5, cell^5_7,5, cell^6_7,5, cell^7_7,5, cell^8_7,5, cell^9_7,5], [cell^1_7,6, cell^2_7,6, cell^3_7,6, cell^4_7,6, cell^5_7,6, cell^6_7,6, cell^7_7,6, cell^8_7,6, cell^9_7,6], [cell^1_7,7, cell^2_7,7, cell^3_7,7, cell^4_7,7, cell^5_7,7, cell^6_7,7, cell^7_7,7, cell^8_7,7, cell^9_7,7], [cell^1_7,8, cell^2_7,8, cell^3_7,8, cell^4_7,8, cell^5_7,8, cell^6_7,8, cell^7_7,8, cell^8_7,8, cell^9_7,8], [cell^1_7,9, cell^2_7,9, cell^3_7,9, cell^4_7,9, cell^5_7,9, cell^6_7,9, cell^7_7,9, cell^8_7,9, cell^9_7,9]], [[cell^1_8,1, cell^2_8,1, cell^3_8,1, cell^4_8,1, cell^5_8,1, cell^6_8,1, cell^7_8,1, cell^8_8,1, cell^9_8,1], [cell^1_8,2, cell^2_8,2, cell^3_8,2, cell^4_8,2, cell^5_8,2, cell^6_8,2, cell^7_8,2, cell^8_8,2, cell^9_8,2], [cell^1_8,3, cell^2_8,3, cell^3_8,3, cell^4_8,3, cell^5_8,3, cell^6_8,3, cell^7_8,3, cell^8_8,3, cell^9_8,3], [cell^1_8,4, cell^2_8,4, cell^3_8,4, cell^4_8,4, cell^5_8,4, cell^6_8,4, cell^7_8,4, cell^8_8,4, cell^9_8,4], [cell^1_8,5, cell^2_8,5, cell^3_8,5, cell^4_8,5, cell^5_8,5, cell^6_8,5, cell^7_8,5, cell^8_8,5, cell^9_8,5], [cell^1_8,6, cell^2_8,6, cell^3_8,6, cell^4_8,6, cell^5_8,6, cell^6_8,6, cell^7_8,6, cell^8_8,6, cell^9_8,6], [cell^1_8,7, cell^2_8,7, cell^3_8,7, cell^4_8,7, cell^5_8,7, cell^6_8,7, cell^7_8,7, cell^8_8,7, cell^9_8,7], [cell^1_8,8, cell^2_8,8, cell^3_8,8, cell^4_8,8, cell^5_8,8, cell^6_8,8, cell^7_8,8, cell^8_8,8, cell^9_8,8], [cell^1_8,9, cell^2_8,9, cell^3_8,9, cell^4_8,9, cell^5_8,9, cell^6_8,9, cell^7_8,9, cell^8_8,9, cell^9_8,9]], [[cell^1_9,1, cell^2_9,1, cell^3_9,1, cell^4_9,1, cell^5_9,1, cell^6_9,1, cell^7_9,1, cell^8_9,1, cell^9_9,1], [cell^1_9,2, cell^2_9,2, cell^3_9,2, cell^4_9,2, cell^5_9,2, cell^6_9,2, cell^7_9,2, cell^8_9,2, cell^9_9,2], [cell^1_9,3, cell^2_9,3, cell^3_9,3, cell^4_9,3, cell^5_9,3, cell^6_9,3, cell^7_9,3, cell^8_9,3, cell^9_9,3], [cell^1_9,4, cell^2_9,4, cell^3_9,4, cell^4_9,4, cell^5_9,4, cell^6_9,4, cell^7_9,4, cell^8_9,4, cell^9_9,4], [cell^1_9,5, cell^2_9,5, cell^3_9,5, cell^4_9,5, cell^5_9,5, cell^6_9,5, cell^7_9,5, cell^8_9,5, cell^9_9,5], [cell^1_9,6, cell^2_9,6, cell^3_9,6, cell^4_9,6, cell^5_9,6, cell^6_9,6, cell^7_9,6, cell^8_9,6, cell^9_9,6], [cell^1_9,7, cell^2_9,7, cell^3_9,7, cell^4_9,7, cell^5_9,7, cell^6_9,7, cell^7_9,7, cell^8_9,7, cell^9_9,7], [cell^1_9,8, cell^2_9,8, cell^3_9,8, cell^4_9,8, cell^5_9,8, cell^6_9,8, cell^7_9,8, cell^8_9,8, cell^9_9,8], [cell^1_9,9, cell^2_9,9, cell^3_9,9, cell^4_9,9, cell^5_9,9, cell^6_9,9, cell^7_9,9, cell^8_9,9, cell^9_9,9]]]\n",
            "The solution is unique, there is 1 solution\n"
          ]
        }
      ],
      "source": [
        "# Code goes here\n",
        "\n",
        "def count_unique_solutions(board):\n",
        "        #Create all variables for the board, should be 729 variables\n",
        "    cells = []\n",
        "    for i in range(len(board)):\n",
        "        row = []\n",
        "        for j in range(len(board[i])):\n",
        "            cell = []\n",
        "            for k in range(9):\n",
        "                cell.append(Bool(f\"cell^{k+1}_{i+1},{j+1}\"))\n",
        "            row.append(cell)\n",
        "        cells.append(row)\n",
        "\n",
        "    print(cells)\n",
        "    s = Solver()\n",
        "\n",
        "    #Intialize current values on the board\n",
        "    for i in range(len(board)):\n",
        "        for j in range(len(board[i])):\n",
        "            if board[i][j] != ' ':\n",
        "                s.add(cells[i][j][int(board[i][j])-1])\n",
        "\n",
        "    #Each cell can have one value\n",
        "    for i in range(len(board)):\n",
        "        for j in range(len(board[i])):\n",
        "            s.add(Or([cells[i][j][k] for k in range(9)])) #One value per cell is true\n",
        "\n",
        "            for k in range(8):\n",
        "                for k2 in range(k+1, 9):\n",
        "                    s.add(Not(And(cells[i][j][k], cells[i][j][k2]))) #No two values in same cell can be true\n",
        "\n",
        "    #Each row needs to have each value once\n",
        "    for i in range(len(board)):\n",
        "        for k in range(9):\n",
        "            s.add(Or([cells[i][j][k] for j in range(len(board[i]))])) #Each row needs to have each value once\n",
        "\n",
        "            for j in range(len(board[i]) - 1):\n",
        "                for j2 in range(j + 1, len(board[i])):\n",
        "                    s.add(Not(And(cells[i][j][k], cells[i][j2][k]))) #Now two cells in the row can have the same value\n",
        "\n",
        "    #Each column needs to have each value once\n",
        "    for j in range(len(board[0])):\n",
        "        for k in range(9):\n",
        "            s.add(Or([cells[i][j][k] for i in range(len(board))])) #Each column needs to have each value once\n",
        "\n",
        "            for i in range(len(board) - 1):\n",
        "                for i2 in range(i + 1, len(board)):\n",
        "                    s.add(Not(And(cells[i][j][k], cells[i2][j][k]))) #No two cells in the column can have the same value\n",
        "\n",
        "    #Each 3x3 needs to have each value once\n",
        "    for cBoxR in range(3):\n",
        "        for cBoxD in range(3):\n",
        "            for k in range(9):\n",
        "                s.add(Or([cells[(cBoxR*3)+i][(cBoxD*3)+j][k] for i in range(3) for j in range(3)])) #Each box needs to have each value once\n",
        "                \n",
        "                #Need to check each other cell in the box\n",
        "                for i in range(3): \n",
        "                    for j in range(3):\n",
        "                        for i2 in range(i, 3):\n",
        "                            for j2 in range(j if i == i2 else 0, 3):\n",
        "                                if j != j2 or i != i2:\n",
        "                                    s.add(Not(And(cells[(cBoxR*3)+i][(cBoxD*3)+j][k], cells[(cBoxR*3)+i2][(cBoxD*3)+j2][k]))) #No two cells in the box can have the same value\n",
        "\n",
        "    #Total solutions, add new constraint to find new solution each time\n",
        "    count = 0\n",
        "    while s.check() == sat:\n",
        "        model = s.model()\n",
        "         \n",
        "        count += 1\n",
        "        alreadyFoundSolution = []\n",
        "        for i in range(len(board)):\n",
        "            for j in range(len(board[i])):\n",
        "                for k in range(9):\n",
        "                    if model[cells[i][j][k]]:\n",
        "                        alreadyFoundSolution.append(cells[i][j][k] == False)\n",
        "                        break\n",
        "        s.add(Or(alreadyFoundSolution)) #New constraint to find a solution diff from previous ones\n",
        "\n",
        "    return count\n",
        "\n",
        "numSolution = count_unique_solutions(board)\n",
        "if numSolution == 0:\n",
        "    print(\"No solution found\")\n",
        "elif numSolution == 1:\n",
        "    print(f\"The solution is unique, there is {numSolution} solution\")\n",
        "else:\n",
        "    print(f\"The solution is not unique, there are {numSolution} solutions\")\n"
      ]
    },
    {
      "cell_type": "markdown",
      "metadata": {
        "id": "Z6a18s5x-5Hw"
      },
      "source": [
        "### More Uniqueness\n",
        "If you delete the 1 in the top left box of the Sudoku problem above, how many unique solutions are there? Hint: should be less than 5000. **(1 point)**"
      ]
    },
    {
      "cell_type": "code",
      "execution_count": 5,
      "metadata": {
        "id": "5_2fNgND_CB4"
      },
      "outputs": [
        {
          "name": "stdout",
          "output_type": "stream",
          "text": [
            "[[[cell^1_1,1, cell^2_1,1, cell^3_1,1, cell^4_1,1, cell^5_1,1, cell^6_1,1, cell^7_1,1, cell^8_1,1, cell^9_1,1], [cell^1_1,2, cell^2_1,2, cell^3_1,2, cell^4_1,2, cell^5_1,2, cell^6_1,2, cell^7_1,2, cell^8_1,2, cell^9_1,2], [cell^1_1,3, cell^2_1,3, cell^3_1,3, cell^4_1,3, cell^5_1,3, cell^6_1,3, cell^7_1,3, cell^8_1,3, cell^9_1,3], [cell^1_1,4, cell^2_1,4, cell^3_1,4, cell^4_1,4, cell^5_1,4, cell^6_1,4, cell^7_1,4, cell^8_1,4, cell^9_1,4], [cell^1_1,5, cell^2_1,5, cell^3_1,5, cell^4_1,5, cell^5_1,5, cell^6_1,5, cell^7_1,5, cell^8_1,5, cell^9_1,5], [cell^1_1,6, cell^2_1,6, cell^3_1,6, cell^4_1,6, cell^5_1,6, cell^6_1,6, cell^7_1,6, cell^8_1,6, cell^9_1,6], [cell^1_1,7, cell^2_1,7, cell^3_1,7, cell^4_1,7, cell^5_1,7, cell^6_1,7, cell^7_1,7, cell^8_1,7, cell^9_1,7], [cell^1_1,8, cell^2_1,8, cell^3_1,8, cell^4_1,8, cell^5_1,8, cell^6_1,8, cell^7_1,8, cell^8_1,8, cell^9_1,8], [cell^1_1,9, cell^2_1,9, cell^3_1,9, cell^4_1,9, cell^5_1,9, cell^6_1,9, cell^7_1,9, cell^8_1,9, cell^9_1,9]], [[cell^1_2,1, cell^2_2,1, cell^3_2,1, cell^4_2,1, cell^5_2,1, cell^6_2,1, cell^7_2,1, cell^8_2,1, cell^9_2,1], [cell^1_2,2, cell^2_2,2, cell^3_2,2, cell^4_2,2, cell^5_2,2, cell^6_2,2, cell^7_2,2, cell^8_2,2, cell^9_2,2], [cell^1_2,3, cell^2_2,3, cell^3_2,3, cell^4_2,3, cell^5_2,3, cell^6_2,3, cell^7_2,3, cell^8_2,3, cell^9_2,3], [cell^1_2,4, cell^2_2,4, cell^3_2,4, cell^4_2,4, cell^5_2,4, cell^6_2,4, cell^7_2,4, cell^8_2,4, cell^9_2,4], [cell^1_2,5, cell^2_2,5, cell^3_2,5, cell^4_2,5, cell^5_2,5, cell^6_2,5, cell^7_2,5, cell^8_2,5, cell^9_2,5], [cell^1_2,6, cell^2_2,6, cell^3_2,6, cell^4_2,6, cell^5_2,6, cell^6_2,6, cell^7_2,6, cell^8_2,6, cell^9_2,6], [cell^1_2,7, cell^2_2,7, cell^3_2,7, cell^4_2,7, cell^5_2,7, cell^6_2,7, cell^7_2,7, cell^8_2,7, cell^9_2,7], [cell^1_2,8, cell^2_2,8, cell^3_2,8, cell^4_2,8, cell^5_2,8, cell^6_2,8, cell^7_2,8, cell^8_2,8, cell^9_2,8], [cell^1_2,9, cell^2_2,9, cell^3_2,9, cell^4_2,9, cell^5_2,9, cell^6_2,9, cell^7_2,9, cell^8_2,9, cell^9_2,9]], [[cell^1_3,1, cell^2_3,1, cell^3_3,1, cell^4_3,1, cell^5_3,1, cell^6_3,1, cell^7_3,1, cell^8_3,1, cell^9_3,1], [cell^1_3,2, cell^2_3,2, cell^3_3,2, cell^4_3,2, cell^5_3,2, cell^6_3,2, cell^7_3,2, cell^8_3,2, cell^9_3,2], [cell^1_3,3, cell^2_3,3, cell^3_3,3, cell^4_3,3, cell^5_3,3, cell^6_3,3, cell^7_3,3, cell^8_3,3, cell^9_3,3], [cell^1_3,4, cell^2_3,4, cell^3_3,4, cell^4_3,4, cell^5_3,4, cell^6_3,4, cell^7_3,4, cell^8_3,4, cell^9_3,4], [cell^1_3,5, cell^2_3,5, cell^3_3,5, cell^4_3,5, cell^5_3,5, cell^6_3,5, cell^7_3,5, cell^8_3,5, cell^9_3,5], [cell^1_3,6, cell^2_3,6, cell^3_3,6, cell^4_3,6, cell^5_3,6, cell^6_3,6, cell^7_3,6, cell^8_3,6, cell^9_3,6], [cell^1_3,7, cell^2_3,7, cell^3_3,7, cell^4_3,7, cell^5_3,7, cell^6_3,7, cell^7_3,7, cell^8_3,7, cell^9_3,7], [cell^1_3,8, cell^2_3,8, cell^3_3,8, cell^4_3,8, cell^5_3,8, cell^6_3,8, cell^7_3,8, cell^8_3,8, cell^9_3,8], [cell^1_3,9, cell^2_3,9, cell^3_3,9, cell^4_3,9, cell^5_3,9, cell^6_3,9, cell^7_3,9, cell^8_3,9, cell^9_3,9]], [[cell^1_4,1, cell^2_4,1, cell^3_4,1, cell^4_4,1, cell^5_4,1, cell^6_4,1, cell^7_4,1, cell^8_4,1, cell^9_4,1], [cell^1_4,2, cell^2_4,2, cell^3_4,2, cell^4_4,2, cell^5_4,2, cell^6_4,2, cell^7_4,2, cell^8_4,2, cell^9_4,2], [cell^1_4,3, cell^2_4,3, cell^3_4,3, cell^4_4,3, cell^5_4,3, cell^6_4,3, cell^7_4,3, cell^8_4,3, cell^9_4,3], [cell^1_4,4, cell^2_4,4, cell^3_4,4, cell^4_4,4, cell^5_4,4, cell^6_4,4, cell^7_4,4, cell^8_4,4, cell^9_4,4], [cell^1_4,5, cell^2_4,5, cell^3_4,5, cell^4_4,5, cell^5_4,5, cell^6_4,5, cell^7_4,5, cell^8_4,5, cell^9_4,5], [cell^1_4,6, cell^2_4,6, cell^3_4,6, cell^4_4,6, cell^5_4,6, cell^6_4,6, cell^7_4,6, cell^8_4,6, cell^9_4,6], [cell^1_4,7, cell^2_4,7, cell^3_4,7, cell^4_4,7, cell^5_4,7, cell^6_4,7, cell^7_4,7, cell^8_4,7, cell^9_4,7], [cell^1_4,8, cell^2_4,8, cell^3_4,8, cell^4_4,8, cell^5_4,8, cell^6_4,8, cell^7_4,8, cell^8_4,8, cell^9_4,8], [cell^1_4,9, cell^2_4,9, cell^3_4,9, cell^4_4,9, cell^5_4,9, cell^6_4,9, cell^7_4,9, cell^8_4,9, cell^9_4,9]], [[cell^1_5,1, cell^2_5,1, cell^3_5,1, cell^4_5,1, cell^5_5,1, cell^6_5,1, cell^7_5,1, cell^8_5,1, cell^9_5,1], [cell^1_5,2, cell^2_5,2, cell^3_5,2, cell^4_5,2, cell^5_5,2, cell^6_5,2, cell^7_5,2, cell^8_5,2, cell^9_5,2], [cell^1_5,3, cell^2_5,3, cell^3_5,3, cell^4_5,3, cell^5_5,3, cell^6_5,3, cell^7_5,3, cell^8_5,3, cell^9_5,3], [cell^1_5,4, cell^2_5,4, cell^3_5,4, cell^4_5,4, cell^5_5,4, cell^6_5,4, cell^7_5,4, cell^8_5,4, cell^9_5,4], [cell^1_5,5, cell^2_5,5, cell^3_5,5, cell^4_5,5, cell^5_5,5, cell^6_5,5, cell^7_5,5, cell^8_5,5, cell^9_5,5], [cell^1_5,6, cell^2_5,6, cell^3_5,6, cell^4_5,6, cell^5_5,6, cell^6_5,6, cell^7_5,6, cell^8_5,6, cell^9_5,6], [cell^1_5,7, cell^2_5,7, cell^3_5,7, cell^4_5,7, cell^5_5,7, cell^6_5,7, cell^7_5,7, cell^8_5,7, cell^9_5,7], [cell^1_5,8, cell^2_5,8, cell^3_5,8, cell^4_5,8, cell^5_5,8, cell^6_5,8, cell^7_5,8, cell^8_5,8, cell^9_5,8], [cell^1_5,9, cell^2_5,9, cell^3_5,9, cell^4_5,9, cell^5_5,9, cell^6_5,9, cell^7_5,9, cell^8_5,9, cell^9_5,9]], [[cell^1_6,1, cell^2_6,1, cell^3_6,1, cell^4_6,1, cell^5_6,1, cell^6_6,1, cell^7_6,1, cell^8_6,1, cell^9_6,1], [cell^1_6,2, cell^2_6,2, cell^3_6,2, cell^4_6,2, cell^5_6,2, cell^6_6,2, cell^7_6,2, cell^8_6,2, cell^9_6,2], [cell^1_6,3, cell^2_6,3, cell^3_6,3, cell^4_6,3, cell^5_6,3, cell^6_6,3, cell^7_6,3, cell^8_6,3, cell^9_6,3], [cell^1_6,4, cell^2_6,4, cell^3_6,4, cell^4_6,4, cell^5_6,4, cell^6_6,4, cell^7_6,4, cell^8_6,4, cell^9_6,4], [cell^1_6,5, cell^2_6,5, cell^3_6,5, cell^4_6,5, cell^5_6,5, cell^6_6,5, cell^7_6,5, cell^8_6,5, cell^9_6,5], [cell^1_6,6, cell^2_6,6, cell^3_6,6, cell^4_6,6, cell^5_6,6, cell^6_6,6, cell^7_6,6, cell^8_6,6, cell^9_6,6], [cell^1_6,7, cell^2_6,7, cell^3_6,7, cell^4_6,7, cell^5_6,7, cell^6_6,7, cell^7_6,7, cell^8_6,7, cell^9_6,7], [cell^1_6,8, cell^2_6,8, cell^3_6,8, cell^4_6,8, cell^5_6,8, cell^6_6,8, cell^7_6,8, cell^8_6,8, cell^9_6,8], [cell^1_6,9, cell^2_6,9, cell^3_6,9, cell^4_6,9, cell^5_6,9, cell^6_6,9, cell^7_6,9, cell^8_6,9, cell^9_6,9]], [[cell^1_7,1, cell^2_7,1, cell^3_7,1, cell^4_7,1, cell^5_7,1, cell^6_7,1, cell^7_7,1, cell^8_7,1, cell^9_7,1], [cell^1_7,2, cell^2_7,2, cell^3_7,2, cell^4_7,2, cell^5_7,2, cell^6_7,2, cell^7_7,2, cell^8_7,2, cell^9_7,2], [cell^1_7,3, cell^2_7,3, cell^3_7,3, cell^4_7,3, cell^5_7,3, cell^6_7,3, cell^7_7,3, cell^8_7,3, cell^9_7,3], [cell^1_7,4, cell^2_7,4, cell^3_7,4, cell^4_7,4, cell^5_7,4, cell^6_7,4, cell^7_7,4, cell^8_7,4, cell^9_7,4], [cell^1_7,5, cell^2_7,5, cell^3_7,5, cell^4_7,5, cell^5_7,5, cell^6_7,5, cell^7_7,5, cell^8_7,5, cell^9_7,5], [cell^1_7,6, cell^2_7,6, cell^3_7,6, cell^4_7,6, cell^5_7,6, cell^6_7,6, cell^7_7,6, cell^8_7,6, cell^9_7,6], [cell^1_7,7, cell^2_7,7, cell^3_7,7, cell^4_7,7, cell^5_7,7, cell^6_7,7, cell^7_7,7, cell^8_7,7, cell^9_7,7], [cell^1_7,8, cell^2_7,8, cell^3_7,8, cell^4_7,8, cell^5_7,8, cell^6_7,8, cell^7_7,8, cell^8_7,8, cell^9_7,8], [cell^1_7,9, cell^2_7,9, cell^3_7,9, cell^4_7,9, cell^5_7,9, cell^6_7,9, cell^7_7,9, cell^8_7,9, cell^9_7,9]], [[cell^1_8,1, cell^2_8,1, cell^3_8,1, cell^4_8,1, cell^5_8,1, cell^6_8,1, cell^7_8,1, cell^8_8,1, cell^9_8,1], [cell^1_8,2, cell^2_8,2, cell^3_8,2, cell^4_8,2, cell^5_8,2, cell^6_8,2, cell^7_8,2, cell^8_8,2, cell^9_8,2], [cell^1_8,3, cell^2_8,3, cell^3_8,3, cell^4_8,3, cell^5_8,3, cell^6_8,3, cell^7_8,3, cell^8_8,3, cell^9_8,3], [cell^1_8,4, cell^2_8,4, cell^3_8,4, cell^4_8,4, cell^5_8,4, cell^6_8,4, cell^7_8,4, cell^8_8,4, cell^9_8,4], [cell^1_8,5, cell^2_8,5, cell^3_8,5, cell^4_8,5, cell^5_8,5, cell^6_8,5, cell^7_8,5, cell^8_8,5, cell^9_8,5], [cell^1_8,6, cell^2_8,6, cell^3_8,6, cell^4_8,6, cell^5_8,6, cell^6_8,6, cell^7_8,6, cell^8_8,6, cell^9_8,6], [cell^1_8,7, cell^2_8,7, cell^3_8,7, cell^4_8,7, cell^5_8,7, cell^6_8,7, cell^7_8,7, cell^8_8,7, cell^9_8,7], [cell^1_8,8, cell^2_8,8, cell^3_8,8, cell^4_8,8, cell^5_8,8, cell^6_8,8, cell^7_8,8, cell^8_8,8, cell^9_8,8], [cell^1_8,9, cell^2_8,9, cell^3_8,9, cell^4_8,9, cell^5_8,9, cell^6_8,9, cell^7_8,9, cell^8_8,9, cell^9_8,9]], [[cell^1_9,1, cell^2_9,1, cell^3_9,1, cell^4_9,1, cell^5_9,1, cell^6_9,1, cell^7_9,1, cell^8_9,1, cell^9_9,1], [cell^1_9,2, cell^2_9,2, cell^3_9,2, cell^4_9,2, cell^5_9,2, cell^6_9,2, cell^7_9,2, cell^8_9,2, cell^9_9,2], [cell^1_9,3, cell^2_9,3, cell^3_9,3, cell^4_9,3, cell^5_9,3, cell^6_9,3, cell^7_9,3, cell^8_9,3, cell^9_9,3], [cell^1_9,4, cell^2_9,4, cell^3_9,4, cell^4_9,4, cell^5_9,4, cell^6_9,4, cell^7_9,4, cell^8_9,4, cell^9_9,4], [cell^1_9,5, cell^2_9,5, cell^3_9,5, cell^4_9,5, cell^5_9,5, cell^6_9,5, cell^7_9,5, cell^8_9,5, cell^9_9,5], [cell^1_9,6, cell^2_9,6, cell^3_9,6, cell^4_9,6, cell^5_9,6, cell^6_9,6, cell^7_9,6, cell^8_9,6, cell^9_9,6], [cell^1_9,7, cell^2_9,7, cell^3_9,7, cell^4_9,7, cell^5_9,7, cell^6_9,7, cell^7_9,7, cell^8_9,7, cell^9_9,7], [cell^1_9,8, cell^2_9,8, cell^3_9,8, cell^4_9,8, cell^5_9,8, cell^6_9,8, cell^7_9,8, cell^8_9,8, cell^9_9,8], [cell^1_9,9, cell^2_9,9, cell^3_9,9, cell^4_9,9, cell^5_9,9, cell^6_9,9, cell^7_9,9, cell^8_9,9, cell^9_9,9]]]\n",
            "The solution is not unique, there are 200 solutions\n"
          ]
        }
      ],
      "source": [
        "newBoard = [[' ', ' ', ' ', 4, ' ', 2, ' ', 5, ' '],\n",
        "         [5, ' ', ' ', ' ', ' ', ' ', ' ', ' ', 6],\n",
        "         [' ', ' ', ' ', 3, ' ', 1, ' ', ' ', ' '],\n",
        "         [7, ' ', 5, ' ', ' ', ' ', 4, ' ', 8],\n",
        "         [' ', ' ', ' ', ' ', ' ', ' ', ' ', ' ', ' '],\n",
        "         [2, ' ', 8, ' ', ' ', ' ', 5, ' ', 9],\n",
        "         [' ', ' ', ' ', 9, ' ', 6, ' ', ' ', ' '],\n",
        "         [6, ' ', ' ', ' ', ' ', ' ', ' ', ' ', 2],\n",
        "         [' ', 7, ' ', 1, ' ', 3, ' ', 4, ' ']\n",
        "        ]\n",
        "\n",
        "numSolution = count_unique_solutions(newBoard)\n",
        "if numSolution == 0:\n",
        "    print(\"No solution found\")\n",
        "elif numSolution == 1:\n",
        "    print(f\"The solution is unique, there is {numSolution} solution\")\n",
        "else:\n",
        "    print(f\"The solution is not unique, there are {numSolution} solutions\")"
      ]
    },
    {
      "cell_type": "markdown",
      "metadata": {
        "id": "6nF9g7Ca_SJ1"
      },
      "source": [
        "# Miracle Sudoku\n",
        "\n",
        "Using z3py and only boolean variables, solve the Miracle Sudoku ([spoiler](https://www.youtube.com/watch?v=yKf9aUIxdb4)).\n",
        "In this puzzle normal Sudoku rules apply in addition to the following rules:\n",
        "* Any two cells separated by a knight's move from chess (moving forward two boxes and over one, in any direction) cannot contain the same digit (see image below).\n",
        "* Any two cells separated by a king's move from chess (one box in any direction including diagonals) cannot contain the same digit.\n",
        "* Any two orthogonally adjacent (up, down, left, or right) cells cannot contain consecutive digits."
      ]
    },
    {
      "cell_type": "markdown",
      "metadata": {
        "id": "wwjCVYCiAKXq"
      },
      "source": [
        "### Knight's move constraint image\n",
        "<img src=\"https://raw.githubusercontent.com/stanleybak/CS7320-AI/master/Knowledge-based/knights.jpg\" width=\"400\"/>\n",
        "\n",
        "The knight's move constraint would mean the yellow boxes cannot contain a 1.\n"
      ]
    },
    {
      "cell_type": "markdown",
      "metadata": {
        "id": "S9P6BThtAMv3"
      },
      "source": [
        "## Miracle Sudoku Starting Information\n",
        "Provide the code to solve the puzzle given below. The code should output a reasonable visualization of the solution, for example using text. **(2 points)**\n",
        "\n",
        "<img src=\"https://raw.githubusercontent.com/stanleybak/CS7320-AI/master/Knowledge-based/miracle.jpg\" width=\"400\"/>"
      ]
    },
    {
      "cell_type": "code",
      "execution_count": 6,
      "metadata": {
        "id": "E56fFoT7CqpY"
      },
      "outputs": [
        {
          "name": "stdout",
          "output_type": "stream",
          "text": [
            "# # # # # # # # # \n",
            "# # # # # # # # # \n",
            "# # # # # # # # # \n",
            "# # # # # # # # # \n",
            "# # 1 # # # # # # \n",
            "# # # # # # 2 # # \n",
            "# # # # # # # # # \n",
            "# # # # # # # # # \n",
            "# # # # # # # # # \n",
            "[[[cell^1_1,1, cell^2_1,1, cell^3_1,1, cell^4_1,1, cell^5_1,1, cell^6_1,1, cell^7_1,1, cell^8_1,1, cell^9_1,1], [cell^1_1,2, cell^2_1,2, cell^3_1,2, cell^4_1,2, cell^5_1,2, cell^6_1,2, cell^7_1,2, cell^8_1,2, cell^9_1,2], [cell^1_1,3, cell^2_1,3, cell^3_1,3, cell^4_1,3, cell^5_1,3, cell^6_1,3, cell^7_1,3, cell^8_1,3, cell^9_1,3], [cell^1_1,4, cell^2_1,4, cell^3_1,4, cell^4_1,4, cell^5_1,4, cell^6_1,4, cell^7_1,4, cell^8_1,4, cell^9_1,4], [cell^1_1,5, cell^2_1,5, cell^3_1,5, cell^4_1,5, cell^5_1,5, cell^6_1,5, cell^7_1,5, cell^8_1,5, cell^9_1,5], [cell^1_1,6, cell^2_1,6, cell^3_1,6, cell^4_1,6, cell^5_1,6, cell^6_1,6, cell^7_1,6, cell^8_1,6, cell^9_1,6], [cell^1_1,7, cell^2_1,7, cell^3_1,7, cell^4_1,7, cell^5_1,7, cell^6_1,7, cell^7_1,7, cell^8_1,7, cell^9_1,7], [cell^1_1,8, cell^2_1,8, cell^3_1,8, cell^4_1,8, cell^5_1,8, cell^6_1,8, cell^7_1,8, cell^8_1,8, cell^9_1,8], [cell^1_1,9, cell^2_1,9, cell^3_1,9, cell^4_1,9, cell^5_1,9, cell^6_1,9, cell^7_1,9, cell^8_1,9, cell^9_1,9]], [[cell^1_2,1, cell^2_2,1, cell^3_2,1, cell^4_2,1, cell^5_2,1, cell^6_2,1, cell^7_2,1, cell^8_2,1, cell^9_2,1], [cell^1_2,2, cell^2_2,2, cell^3_2,2, cell^4_2,2, cell^5_2,2, cell^6_2,2, cell^7_2,2, cell^8_2,2, cell^9_2,2], [cell^1_2,3, cell^2_2,3, cell^3_2,3, cell^4_2,3, cell^5_2,3, cell^6_2,3, cell^7_2,3, cell^8_2,3, cell^9_2,3], [cell^1_2,4, cell^2_2,4, cell^3_2,4, cell^4_2,4, cell^5_2,4, cell^6_2,4, cell^7_2,4, cell^8_2,4, cell^9_2,4], [cell^1_2,5, cell^2_2,5, cell^3_2,5, cell^4_2,5, cell^5_2,5, cell^6_2,5, cell^7_2,5, cell^8_2,5, cell^9_2,5], [cell^1_2,6, cell^2_2,6, cell^3_2,6, cell^4_2,6, cell^5_2,6, cell^6_2,6, cell^7_2,6, cell^8_2,6, cell^9_2,6], [cell^1_2,7, cell^2_2,7, cell^3_2,7, cell^4_2,7, cell^5_2,7, cell^6_2,7, cell^7_2,7, cell^8_2,7, cell^9_2,7], [cell^1_2,8, cell^2_2,8, cell^3_2,8, cell^4_2,8, cell^5_2,8, cell^6_2,8, cell^7_2,8, cell^8_2,8, cell^9_2,8], [cell^1_2,9, cell^2_2,9, cell^3_2,9, cell^4_2,9, cell^5_2,9, cell^6_2,9, cell^7_2,9, cell^8_2,9, cell^9_2,9]], [[cell^1_3,1, cell^2_3,1, cell^3_3,1, cell^4_3,1, cell^5_3,1, cell^6_3,1, cell^7_3,1, cell^8_3,1, cell^9_3,1], [cell^1_3,2, cell^2_3,2, cell^3_3,2, cell^4_3,2, cell^5_3,2, cell^6_3,2, cell^7_3,2, cell^8_3,2, cell^9_3,2], [cell^1_3,3, cell^2_3,3, cell^3_3,3, cell^4_3,3, cell^5_3,3, cell^6_3,3, cell^7_3,3, cell^8_3,3, cell^9_3,3], [cell^1_3,4, cell^2_3,4, cell^3_3,4, cell^4_3,4, cell^5_3,4, cell^6_3,4, cell^7_3,4, cell^8_3,4, cell^9_3,4], [cell^1_3,5, cell^2_3,5, cell^3_3,5, cell^4_3,5, cell^5_3,5, cell^6_3,5, cell^7_3,5, cell^8_3,5, cell^9_3,5], [cell^1_3,6, cell^2_3,6, cell^3_3,6, cell^4_3,6, cell^5_3,6, cell^6_3,6, cell^7_3,6, cell^8_3,6, cell^9_3,6], [cell^1_3,7, cell^2_3,7, cell^3_3,7, cell^4_3,7, cell^5_3,7, cell^6_3,7, cell^7_3,7, cell^8_3,7, cell^9_3,7], [cell^1_3,8, cell^2_3,8, cell^3_3,8, cell^4_3,8, cell^5_3,8, cell^6_3,8, cell^7_3,8, cell^8_3,8, cell^9_3,8], [cell^1_3,9, cell^2_3,9, cell^3_3,9, cell^4_3,9, cell^5_3,9, cell^6_3,9, cell^7_3,9, cell^8_3,9, cell^9_3,9]], [[cell^1_4,1, cell^2_4,1, cell^3_4,1, cell^4_4,1, cell^5_4,1, cell^6_4,1, cell^7_4,1, cell^8_4,1, cell^9_4,1], [cell^1_4,2, cell^2_4,2, cell^3_4,2, cell^4_4,2, cell^5_4,2, cell^6_4,2, cell^7_4,2, cell^8_4,2, cell^9_4,2], [cell^1_4,3, cell^2_4,3, cell^3_4,3, cell^4_4,3, cell^5_4,3, cell^6_4,3, cell^7_4,3, cell^8_4,3, cell^9_4,3], [cell^1_4,4, cell^2_4,4, cell^3_4,4, cell^4_4,4, cell^5_4,4, cell^6_4,4, cell^7_4,4, cell^8_4,4, cell^9_4,4], [cell^1_4,5, cell^2_4,5, cell^3_4,5, cell^4_4,5, cell^5_4,5, cell^6_4,5, cell^7_4,5, cell^8_4,5, cell^9_4,5], [cell^1_4,6, cell^2_4,6, cell^3_4,6, cell^4_4,6, cell^5_4,6, cell^6_4,6, cell^7_4,6, cell^8_4,6, cell^9_4,6], [cell^1_4,7, cell^2_4,7, cell^3_4,7, cell^4_4,7, cell^5_4,7, cell^6_4,7, cell^7_4,7, cell^8_4,7, cell^9_4,7], [cell^1_4,8, cell^2_4,8, cell^3_4,8, cell^4_4,8, cell^5_4,8, cell^6_4,8, cell^7_4,8, cell^8_4,8, cell^9_4,8], [cell^1_4,9, cell^2_4,9, cell^3_4,9, cell^4_4,9, cell^5_4,9, cell^6_4,9, cell^7_4,9, cell^8_4,9, cell^9_4,9]], [[cell^1_5,1, cell^2_5,1, cell^3_5,1, cell^4_5,1, cell^5_5,1, cell^6_5,1, cell^7_5,1, cell^8_5,1, cell^9_5,1], [cell^1_5,2, cell^2_5,2, cell^3_5,2, cell^4_5,2, cell^5_5,2, cell^6_5,2, cell^7_5,2, cell^8_5,2, cell^9_5,2], [cell^1_5,3, cell^2_5,3, cell^3_5,3, cell^4_5,3, cell^5_5,3, cell^6_5,3, cell^7_5,3, cell^8_5,3, cell^9_5,3], [cell^1_5,4, cell^2_5,4, cell^3_5,4, cell^4_5,4, cell^5_5,4, cell^6_5,4, cell^7_5,4, cell^8_5,4, cell^9_5,4], [cell^1_5,5, cell^2_5,5, cell^3_5,5, cell^4_5,5, cell^5_5,5, cell^6_5,5, cell^7_5,5, cell^8_5,5, cell^9_5,5], [cell^1_5,6, cell^2_5,6, cell^3_5,6, cell^4_5,6, cell^5_5,6, cell^6_5,6, cell^7_5,6, cell^8_5,6, cell^9_5,6], [cell^1_5,7, cell^2_5,7, cell^3_5,7, cell^4_5,7, cell^5_5,7, cell^6_5,7, cell^7_5,7, cell^8_5,7, cell^9_5,7], [cell^1_5,8, cell^2_5,8, cell^3_5,8, cell^4_5,8, cell^5_5,8, cell^6_5,8, cell^7_5,8, cell^8_5,8, cell^9_5,8], [cell^1_5,9, cell^2_5,9, cell^3_5,9, cell^4_5,9, cell^5_5,9, cell^6_5,9, cell^7_5,9, cell^8_5,9, cell^9_5,9]], [[cell^1_6,1, cell^2_6,1, cell^3_6,1, cell^4_6,1, cell^5_6,1, cell^6_6,1, cell^7_6,1, cell^8_6,1, cell^9_6,1], [cell^1_6,2, cell^2_6,2, cell^3_6,2, cell^4_6,2, cell^5_6,2, cell^6_6,2, cell^7_6,2, cell^8_6,2, cell^9_6,2], [cell^1_6,3, cell^2_6,3, cell^3_6,3, cell^4_6,3, cell^5_6,3, cell^6_6,3, cell^7_6,3, cell^8_6,3, cell^9_6,3], [cell^1_6,4, cell^2_6,4, cell^3_6,4, cell^4_6,4, cell^5_6,4, cell^6_6,4, cell^7_6,4, cell^8_6,4, cell^9_6,4], [cell^1_6,5, cell^2_6,5, cell^3_6,5, cell^4_6,5, cell^5_6,5, cell^6_6,5, cell^7_6,5, cell^8_6,5, cell^9_6,5], [cell^1_6,6, cell^2_6,6, cell^3_6,6, cell^4_6,6, cell^5_6,6, cell^6_6,6, cell^7_6,6, cell^8_6,6, cell^9_6,6], [cell^1_6,7, cell^2_6,7, cell^3_6,7, cell^4_6,7, cell^5_6,7, cell^6_6,7, cell^7_6,7, cell^8_6,7, cell^9_6,7], [cell^1_6,8, cell^2_6,8, cell^3_6,8, cell^4_6,8, cell^5_6,8, cell^6_6,8, cell^7_6,8, cell^8_6,8, cell^9_6,8], [cell^1_6,9, cell^2_6,9, cell^3_6,9, cell^4_6,9, cell^5_6,9, cell^6_6,9, cell^7_6,9, cell^8_6,9, cell^9_6,9]], [[cell^1_7,1, cell^2_7,1, cell^3_7,1, cell^4_7,1, cell^5_7,1, cell^6_7,1, cell^7_7,1, cell^8_7,1, cell^9_7,1], [cell^1_7,2, cell^2_7,2, cell^3_7,2, cell^4_7,2, cell^5_7,2, cell^6_7,2, cell^7_7,2, cell^8_7,2, cell^9_7,2], [cell^1_7,3, cell^2_7,3, cell^3_7,3, cell^4_7,3, cell^5_7,3, cell^6_7,3, cell^7_7,3, cell^8_7,3, cell^9_7,3], [cell^1_7,4, cell^2_7,4, cell^3_7,4, cell^4_7,4, cell^5_7,4, cell^6_7,4, cell^7_7,4, cell^8_7,4, cell^9_7,4], [cell^1_7,5, cell^2_7,5, cell^3_7,5, cell^4_7,5, cell^5_7,5, cell^6_7,5, cell^7_7,5, cell^8_7,5, cell^9_7,5], [cell^1_7,6, cell^2_7,6, cell^3_7,6, cell^4_7,6, cell^5_7,6, cell^6_7,6, cell^7_7,6, cell^8_7,6, cell^9_7,6], [cell^1_7,7, cell^2_7,7, cell^3_7,7, cell^4_7,7, cell^5_7,7, cell^6_7,7, cell^7_7,7, cell^8_7,7, cell^9_7,7], [cell^1_7,8, cell^2_7,8, cell^3_7,8, cell^4_7,8, cell^5_7,8, cell^6_7,8, cell^7_7,8, cell^8_7,8, cell^9_7,8], [cell^1_7,9, cell^2_7,9, cell^3_7,9, cell^4_7,9, cell^5_7,9, cell^6_7,9, cell^7_7,9, cell^8_7,9, cell^9_7,9]], [[cell^1_8,1, cell^2_8,1, cell^3_8,1, cell^4_8,1, cell^5_8,1, cell^6_8,1, cell^7_8,1, cell^8_8,1, cell^9_8,1], [cell^1_8,2, cell^2_8,2, cell^3_8,2, cell^4_8,2, cell^5_8,2, cell^6_8,2, cell^7_8,2, cell^8_8,2, cell^9_8,2], [cell^1_8,3, cell^2_8,3, cell^3_8,3, cell^4_8,3, cell^5_8,3, cell^6_8,3, cell^7_8,3, cell^8_8,3, cell^9_8,3], [cell^1_8,4, cell^2_8,4, cell^3_8,4, cell^4_8,4, cell^5_8,4, cell^6_8,4, cell^7_8,4, cell^8_8,4, cell^9_8,4], [cell^1_8,5, cell^2_8,5, cell^3_8,5, cell^4_8,5, cell^5_8,5, cell^6_8,5, cell^7_8,5, cell^8_8,5, cell^9_8,5], [cell^1_8,6, cell^2_8,6, cell^3_8,6, cell^4_8,6, cell^5_8,6, cell^6_8,6, cell^7_8,6, cell^8_8,6, cell^9_8,6], [cell^1_8,7, cell^2_8,7, cell^3_8,7, cell^4_8,7, cell^5_8,7, cell^6_8,7, cell^7_8,7, cell^8_8,7, cell^9_8,7], [cell^1_8,8, cell^2_8,8, cell^3_8,8, cell^4_8,8, cell^5_8,8, cell^6_8,8, cell^7_8,8, cell^8_8,8, cell^9_8,8], [cell^1_8,9, cell^2_8,9, cell^3_8,9, cell^4_8,9, cell^5_8,9, cell^6_8,9, cell^7_8,9, cell^8_8,9, cell^9_8,9]], [[cell^1_9,1, cell^2_9,1, cell^3_9,1, cell^4_9,1, cell^5_9,1, cell^6_9,1, cell^7_9,1, cell^8_9,1, cell^9_9,1], [cell^1_9,2, cell^2_9,2, cell^3_9,2, cell^4_9,2, cell^5_9,2, cell^6_9,2, cell^7_9,2, cell^8_9,2, cell^9_9,2], [cell^1_9,3, cell^2_9,3, cell^3_9,3, cell^4_9,3, cell^5_9,3, cell^6_9,3, cell^7_9,3, cell^8_9,3, cell^9_9,3], [cell^1_9,4, cell^2_9,4, cell^3_9,4, cell^4_9,4, cell^5_9,4, cell^6_9,4, cell^7_9,4, cell^8_9,4, cell^9_9,4], [cell^1_9,5, cell^2_9,5, cell^3_9,5, cell^4_9,5, cell^5_9,5, cell^6_9,5, cell^7_9,5, cell^8_9,5, cell^9_9,5], [cell^1_9,6, cell^2_9,6, cell^3_9,6, cell^4_9,6, cell^5_9,6, cell^6_9,6, cell^7_9,6, cell^8_9,6, cell^9_9,6], [cell^1_9,7, cell^2_9,7, cell^3_9,7, cell^4_9,7, cell^5_9,7, cell^6_9,7, cell^7_9,7, cell^8_9,7, cell^9_9,7], [cell^1_9,8, cell^2_9,8, cell^3_9,8, cell^4_9,8, cell^5_9,8, cell^6_9,8, cell^7_9,8, cell^8_9,8, cell^9_9,8], [cell^1_9,9, cell^2_9,9, cell^3_9,9, cell^4_9,9, cell^5_9,9, cell^6_9,9, cell^7_9,9, cell^8_9,9, cell^9_9,9]]]\n",
            "4 8 3 7 2 6 1 5 9 \n",
            "7 2 6 1 5 9 4 8 3 \n",
            "1 5 9 4 8 3 7 2 6 \n",
            "8 3 7 2 6 1 5 9 4 \n",
            "2 6 1 5 9 4 8 3 7 \n",
            "5 9 4 8 3 7 2 6 1 \n",
            "3 7 2 6 1 5 9 4 8 \n",
            "6 1 5 9 4 8 3 7 2 \n",
            "9 4 8 3 7 2 6 1 5 \n"
          ]
        }
      ],
      "source": [
        "# Solution code for Miracle Sudoku using z3py\n",
        "\n",
        "miracleBoard = [[' ', ' ', ' ', ' ', ' ', ' ', ' ', ' ', ' '],\n",
        "                [' ', ' ', ' ', ' ', ' ', ' ', ' ', ' ', ' '],\n",
        "                [' ', ' ', ' ', ' ', ' ', ' ', ' ', ' ', ' '],\n",
        "                [' ', ' ', ' ', ' ', ' ', ' ', ' ', ' ', ' '],\n",
        "                [' ', ' ', '1', ' ', ' ', ' ', ' ', ' ', ' '],\n",
        "                [' ', ' ', ' ', ' ', ' ', ' ', '2', ' ', ' '],\n",
        "                [' ', ' ', ' ', ' ', ' ', ' ', ' ', ' ', ' '],\n",
        "                [' ', ' ', ' ', ' ', ' ', ' ', ' ', ' ', ' '],\n",
        "                [' ', ' ', ' ', ' ', ' ', ' ', ' ', ' ', ' ']\n",
        "                ]\n",
        "\n",
        "def solve_sudoku_miracle(board):\n",
        "    #Create all variables for the board, should be 729 variables\n",
        "    cells = []\n",
        "    for i in range(len(board)):\n",
        "        row = []\n",
        "        for j in range(len(board[i])):\n",
        "            cell = []\n",
        "            for k in range(9):\n",
        "                cell.append(Bool(f\"cell^{k+1}_{i+1},{j+1}\"))\n",
        "            row.append(cell)\n",
        "        cells.append(row)\n",
        "\n",
        "    print(cells)\n",
        "    s = Solver()\n",
        "\n",
        "    #Intialize current values on the board\n",
        "    for i in range(len(board)):\n",
        "        for j in range(len(board[i])):\n",
        "            if board[i][j] != ' ':\n",
        "                s.add(cells[i][j][int(board[i][j])-1])\n",
        "\n",
        "    #Each cell can have one value\n",
        "    for i in range(len(board)):\n",
        "        for j in range(len(board[i])):\n",
        "            s.add(Or([cells[i][j][k] for k in range(9)])) #One value per cell is true\n",
        "\n",
        "            for k in range(8):\n",
        "                for k2 in range(k+1, 9):\n",
        "                    s.add(Not(And(cells[i][j][k], cells[i][j][k2]))) #No two values in same cell can be true\n",
        "\n",
        "    #Each row needs to have each value once\n",
        "    for i in range(len(board)):\n",
        "        for k in range(9):\n",
        "            s.add(Or([cells[i][j][k] for j in range(len(board[i]))])) #Each row needs to have each value once\n",
        "\n",
        "            for j in range(len(board[i]) - 1):\n",
        "                for j2 in range(j + 1, len(board[i])):\n",
        "                    s.add(Not(And(cells[i][j][k], cells[i][j2][k]))) #Now two cells in the row can have the same value\n",
        "\n",
        "    #Each column needs to have each value once\n",
        "    for j in range(len(board[0])):\n",
        "        for k in range(9):\n",
        "            s.add(Or([cells[i][j][k] for i in range(len(board))])) #Each column needs to have each value once\n",
        "\n",
        "            for i in range(len(board) - 1):\n",
        "                for i2 in range(i + 1, len(board)):\n",
        "                    s.add(Not(And(cells[i][j][k], cells[i2][j][k]))) #No two cells in the column can have the same value\n",
        "\n",
        "    #Each 3x3 needs to have each value once\n",
        "    for cBoxR in range(3):\n",
        "        for cBoxD in range(3):\n",
        "            for k in range(9):\n",
        "                s.add(Or([cells[(cBoxR*3)+i][(cBoxD*3)+j][k] for i in range(3) for j in range(3)])) #Each box needs to have each value once\n",
        "                \n",
        "                #Need to check each other cell in the box\n",
        "                for i in range(3): \n",
        "                    for j in range(3):\n",
        "                        for i2 in range(i, 3):\n",
        "                            for j2 in range(j if i == i2 else 0, 3):\n",
        "                                if j != j2 or i != i2:\n",
        "                                    s.add(Not(And(cells[(cBoxR*3)+i][(cBoxD*3)+j][k], cells[(cBoxR*3)+i2][(cBoxD*3)+j2][k]))) #No two cells in the box can have the same value\n",
        "                                    \n",
        "    #Each cell can't have a consecutive number orthogonally next to it\n",
        "    for i in range(len(board)):\n",
        "        for j in range(len(board[i])):\n",
        "            for k in range(9):\n",
        "                #Need to check left, right, up, down\n",
        "                cellsOrthogonal = []\n",
        "                if i-1 >= 0:\n",
        "                    if k - 1 >= 0:\n",
        "                        cellsOrthogonal.append(cells[i-1][j][k - 1])\n",
        "                    else:\n",
        "                        cellsOrthogonal.append(cells[i-1][j][8])\n",
        "                    if k + 1 < 9:\n",
        "                        cellsOrthogonal.append(cells[i-1][j][k + 1])\n",
        "                    else:\n",
        "                        cellsOrthogonal.append(cells[i-1][j][0])\n",
        "                if i+1 < len(board):\n",
        "                    if k - 1 >= 0:\n",
        "                        cellsOrthogonal.append(cells[i+1][j][k - 1])\n",
        "                    else:\n",
        "                        cellsOrthogonal.append(cells[i+1][j][8])\n",
        "                    if k + 1 < 9:\n",
        "                        cellsOrthogonal.append(cells[i+1][j][k + 1])\n",
        "                    else:\n",
        "                        cellsOrthogonal.append(cells[i+1][j][0])\n",
        "                if j-1 >= 0:\n",
        "                    if k - 1 >= 0:\n",
        "                        cellsOrthogonal.append(cells[i][j-1][k - 1])\n",
        "                    else:\n",
        "                        cellsOrthogonal.append(cells[i][j-1][8])\n",
        "                    if k + 1 < 9:\n",
        "                        cellsOrthogonal.append(cells[i][j-1][k + 1])\n",
        "                    else:\n",
        "                        cellsOrthogonal.append(cells[i][j-1][0])\n",
        "                if j+1 < len(board[i]):\n",
        "                    if k - 1 >= 0:\n",
        "                        cellsOrthogonal.append(cells[i][j+1][k - 1])\n",
        "                    else:\n",
        "                        cellsOrthogonal.append(cells[i][j+1][8])\n",
        "                    if k + 1 < 9:\n",
        "                        cellsOrthogonal.append(cells[i][j+1][k + 1])\n",
        "                    else:\n",
        "                        cellsOrthogonal.append(cells[i][j+1][0])\n",
        "\n",
        "                if len(cellsOrthogonal) > 0:\n",
        "                    s.add(Implies(cells[i][j][k], Not(Or(cellsOrthogonal))))\n",
        "\n",
        "\n",
        "    #Each cell can't have the same number a king move away\n",
        "    for i in range(len(board)):\n",
        "        for j in range(len(board[i])):\n",
        "            for k in range(9):\n",
        "                cellsInKingsMove = []\n",
        "                for diagonalCheck in [(1, 1), (1, -1), (-1, 1), (-1, -1)]: #Dont need to check up, down, left, right checked in rows and cols\n",
        "                    #Check if king move is valid\n",
        "                    if (diagonalCheck[0] + i >=0) and (diagonalCheck[0] + i < len(board)) and (diagonalCheck[1] + j >=0) and (diagonalCheck[1] + j < len(board[i])):\n",
        "                        cellsInKingsMove.append(cells[diagonalCheck[0] + i][diagonalCheck[1] + j][k])\n",
        "                if len(cellsInKingsMove) > 0:\n",
        "                    s.add(Implies(cells[i][j][k], Not(Or(cellsInKingsMove))))\n",
        "\n",
        "    #Each cell can't have the same number a knight move away\n",
        "    for i in range(len(board)):\n",
        "        for j in range(len(board[i])):\n",
        "            for k in range(9):\n",
        "                cellsInKnightMove = []\n",
        "                for offsetLeftRight, offsetDownUp in [(2, 1), (2, -1), (1, 2), (1, -2), (-1, 2), (-1, -2), (-2, 1), (-2, -1)]: #Knight move paths poss\n",
        "                    #Check if knight move is valid\n",
        "                    if (offsetLeftRight + i >=0) and (offsetLeftRight + i < len(board)) and (offsetDownUp + j >=0) and (offsetDownUp + j < len(board[i])):\n",
        "                        cellsInKnightMove.append(cells[offsetLeftRight + i][offsetDownUp + j][k])\n",
        "                if len(cellsInKnightMove) > 0:\n",
        "                    s.add(Implies(cells[i][j][k],Not(Or(cellsInKnightMove))))\n",
        "                \n",
        "\n",
        "    if s.check() == sat:\n",
        "        model = s.model()\n",
        "\n",
        "        #Conbert model to solution with same format as board\n",
        "        solution = []\n",
        "        for i in range(len(board)):\n",
        "            row = []\n",
        "            for j in range(len(board[i])):\n",
        "                row.append(' ')\n",
        "            solution.append(row)\n",
        "        \n",
        "        #Convert from 0 to 8 to 1 to 9\n",
        "        for i in range(len(board)):\n",
        "            for j in range(len(board[i])):\n",
        "                for k in range(9):\n",
        "                    if model[cells[i][j][k]]:\n",
        "                        solution[i][j] = k+1 \n",
        "                        break\n",
        "        return solution\n",
        "    else:\n",
        "        return None\n",
        "\n",
        "print_board(miracleBoard)\n",
        "solution = solve_sudoku_miracle(miracleBoard)\n",
        "if solution is not None:\n",
        "    print_board(solution)\n",
        "       \n",
        "else:\n",
        "    print(\"No solution found\")\n"
      ]
    },
    {
      "cell_type": "markdown",
      "metadata": {
        "id": "sy985abkCrfR"
      },
      "source": [
        "\n",
        "\n",
        "---\n",
        "\n",
        "\n",
        "# Propositional Logic\n",
        "\n",
        "Next, we will use truth tables and z3py to prove logical entailment.\n",
        "\n",
        "## Truth Tables\n",
        "\n",
        "Using markdown tables and bold to show relevant rows, use the truth table method to show logical truths.\n",
        "\n",
        "\n",
        "### Example\n",
        "\n",
        "Here's an example that shows $p, p \\rightarrow q \\models q$.  \n",
        "\n",
        "| p | q | p -> q |\n",
        "|-------|-------|---------------------|\n",
        "| **T**     | **T**     | **T**                   |\n",
        "| T     | F     | F                   |\n",
        "| F     | T     | T                   |\n",
        "| F     | F     | T                   |\n",
        "\n",
        "Since $q$ is true whenever $p$ and $p \\rightarrow q$ are true, the expression is true.\n",
        "\n",
        "### Questions\n",
        "\n",
        "Prove that the following semantic entailment expressions are true by using the truth table approach.  Bold the appropriate rows **(1 point)**\n",
        "\n",
        " * $(p\\rightarrow q)\\rightarrow r, s \\rightarrow \\neg p, t, \\neg s, t \\rightarrow q \\models r$\n",
        " * $\\emptyset \\models q \\rightarrow (p \\rightarrow (p \\rightarrow (q \\rightarrow p)))$"
      ]
    },
    {
      "cell_type": "markdown",
      "metadata": {
        "id": "wyZsntivFueN"
      },
      "source": [
        " * $(p\\rightarrow q)\\rightarrow r, s \\rightarrow \\neg p, t, \\neg s, t \\rightarrow q \\models r$\n",
        "\n",
        "| p | q | p -> q |\n",
        "|-------|-------|---------------------|\n",
        "| **T**     | **T**     | **T**                   | * *\n",
        "| T     | F     | F                   | *\n",
        "| F     | T     | T                   | *\n",
        "| F     | F     | T                   |\n",
        "\n",
        "| p -> q | r | (p -> q) -> r\n",
        "|-------|-------|---------------------|\n",
        "| **T**     | **T**     | **T**                   | * *\n",
        "| F     | F     | T                   | *\n",
        "| T     | T     | T                   | *\n",
        "| T     | F     | F                   | \n",
        "\n",
        "| s | $\\neg$ p | s -> $\\neg$ p |\n",
        "|-------|-------|---------------------|\n",
        "| T     | T     | F                   |\n",
        "| T     | F     | T                   |\n",
        "| **F**     | **T**     | **T**                   | * *\n",
        "| F     | F     | T                   | *\n",
        "\n",
        "| t | q | t -> q |\n",
        "|-------|-------|---------------------|\n",
        "| **T**     | **T**     | **T**                   | * *\n",
        "| T     | F     | F                   | *\n",
        "| F     | T     | T                   |\n",
        "| F     | F     | T                   |\n",
        "\n",
        "p is T, s is F, q is T, r is T, t is T"
      ]
    },
    {
      "cell_type": "markdown",
      "metadata": {},
      "source": [
        " * $\\emptyset \\models q \\rightarrow (p \\rightarrow (p \\rightarrow (q \\rightarrow p)))$\n",
        "\n",
        "| p | q | q -> p | p -> (q -> p) | p -> (p -> (q -> p)) | q -> (p -> (p -> (q -> p)))\n",
        "|-------|-------|---------------------|---------------------|---------------------|---------------------|\n",
        "| T     | T     | T                   | T                   | T                   | T                   |\n",
        "| T     | F     | F                   | F                   | F                   | T                   |\n",
        "| F     | T     | T                   | T                   | T                   | T                   |\n",
        "| F     | F     | T                   | T                   | T                   | T                   |\n",
        "\n",
        "The statement is always true no matter what p and q are"
      ]
    },
    {
      "cell_type": "markdown",
      "metadata": {
        "id": "q7le6n2jFu4l"
      },
      "source": [
        "\n",
        "\n",
        "---\n",
        "\n",
        "\n",
        " ## Logical Entailment using z3py\n",
        "\n",
        " Use Z3py to prove the above two entailments are true using satisfiability. See section 7.5 in the book for details. **(1 point)**"
      ]
    },
    {
      "cell_type": "code",
      "execution_count": 7,
      "metadata": {
        "id": "Z80-O6FGDtjp"
      },
      "outputs": [
        {
          "name": "stdout",
          "output_type": "stream",
          "text": [
            "sat\n",
            "[t = True, s = False, q = True, r = True]\n"
          ]
        }
      ],
      "source": [
        "# answer code here\n",
        "\n",
        "from z3 import *\n",
        "p = Bool('p')\n",
        "q = Bool('q')\n",
        "r = Bool('r')\n",
        "s = Bool('s')\n",
        "t = Bool('t')\n",
        "\n",
        "so = Solver()\n",
        "#so.add(p)\n",
        "#so.add(q)\n",
        "implies_pq = Implies(p,q)\n",
        "so.add(Implies(implies_pq,r))\n",
        "so.add(Implies(s,Not(p)))\n",
        "so.add(t)\n",
        "so.add(Not(s))\n",
        "so.add(Implies(t,q))\n",
        "\n",
        "print(so.check())\n",
        "\n",
        "m = so.model()\n",
        "print(m)"
      ]
    },
    {
      "cell_type": "code",
      "execution_count": 8,
      "metadata": {},
      "outputs": [
        {
          "name": "stdout",
          "output_type": "stream",
          "text": [
            "sat\n"
          ]
        }
      ],
      "source": [
        "p = Bool('p')\n",
        "q = Bool('q')\n",
        "\n",
        "solve = Solver()\n",
        "\n",
        "solve.add(Not(Implies(q, Implies(p, Implies(p, Implies(q, p))))))\n",
        "\n",
        "result = solve.check()\n",
        "\n",
        "if result == unsat: #Unsat means it is true for all\n",
        "    print(\"sat\")\n",
        "else:\n",
        "    print(\"unsat\")"
      ]
    }
  ],
  "metadata": {
    "colab": {
      "provenance": []
    },
    "kernelspec": {
      "display_name": "Python 3",
      "language": "python",
      "name": "python3"
    },
    "language_info": {
      "codemirror_mode": {
        "name": "ipython",
        "version": 3
      },
      "file_extension": ".py",
      "mimetype": "text/x-python",
      "name": "python",
      "nbconvert_exporter": "python",
      "pygments_lexer": "ipython3",
      "version": "3.12.0"
    }
  },
  "nbformat": 4,
  "nbformat_minor": 0
}
